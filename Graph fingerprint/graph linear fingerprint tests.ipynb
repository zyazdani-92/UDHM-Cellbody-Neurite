{
 "cells": [
  {
   "cell_type": "code",
   "execution_count": 1,
   "id": "85ce5b05",
   "metadata": {},
   "outputs": [],
   "source": [
    "import numpy as np\n",
    "from graph_linear_fingerprinting import *\n",
    "import networkx as nx"
   ]
  },
  {
   "cell_type": "code",
   "execution_count": 2,
   "id": "85c9ec94",
   "metadata": {},
   "outputs": [],
   "source": [
    "n=1000\n",
    "A=  np.random.rand(n,n)\n",
    "A = (A<0.01)*A"
   ]
  },
  {
   "cell_type": "code",
   "execution_count": 3,
   "id": "ed57e411",
   "metadata": {},
   "outputs": [
    {
     "name": "stdout",
     "output_type": "stream",
     "text": [
      "CPU times: user 11.8 s, sys: 153 ms, total: 12 s\n",
      "Wall time: 1.58 s\n"
     ]
    }
   ],
   "source": [
    "%%time \n",
    "m = linear_fingerprint(A)"
   ]
  },
  {
   "cell_type": "code",
   "execution_count": 4,
   "id": "6932a447",
   "metadata": {},
   "outputs": [
    {
     "name": "stdout",
     "output_type": "stream",
     "text": [
      "CPU times: user 15 s, sys: 224 ms, total: 15.2 s\n",
      "Wall time: 1.98 s\n"
     ]
    },
    {
     "name": "stderr",
     "output_type": "stream",
     "text": [
      "/Users/behnaz/RNAseq/git-repo/graph_linear_fingerprinting.py:321: RuntimeWarning: divide by zero encountered in divide\n",
      "  measures['Diffusion efficiency'] = 1/MFPT\n"
     ]
    }
   ],
   "source": [
    "%%time\n",
    "m = matrix_measures(A)"
   ]
  },
  {
   "cell_type": "code",
   "execution_count": 5,
   "id": "7570de1e",
   "metadata": {},
   "outputs": [
    {
     "data": {
      "text/plain": [
       "{'Similarity': array([[1.        , 0.00728441, 0.00894125, ..., 0.        , 0.        ,\n",
       "         0.        ],\n",
       "        [0.00728441, 1.        , 0.04088676, ..., 0.00528933, 0.        ,\n",
       "         0.00473283],\n",
       "        [0.00894125, 0.04088676, 1.        , ..., 0.        , 0.        ,\n",
       "         0.        ],\n",
       "        ...,\n",
       "        [0.        , 0.00528933, 0.        , ..., 1.        , 0.        ,\n",
       "         0.03886952],\n",
       "        [0.        , 0.        , 0.        , ..., 0.        , 1.        ,\n",
       "         0.        ],\n",
       "        [0.        , 0.00473283, 0.        , ..., 0.03886952, 0.        ,\n",
       "         1.        ]]),\n",
       " 'Normalized weight': array([[0., 0., 0., ..., 0., 0., 0.],\n",
       "        [0., 0., 0., ..., 0., 0., 0.],\n",
       "        [0., 0., 0., ..., 0., 0., 0.],\n",
       "        ...,\n",
       "        [0., 0., 0., ..., 0., 0., 0.],\n",
       "        [0., 0., 0., ..., 0., 0., 0.],\n",
       "        [0., 0., 0., ..., 0., 0., 0.]]),\n",
       " 'Communicability': array([[1.02994711e+00, 5.10725672e-04, 4.92325727e-04, ...,\n",
       "         2.33797951e-04, 1.75245326e-04, 8.19728158e-05],\n",
       "        [5.10725672e-04, 1.03513411e+00, 1.29079975e-03, ...,\n",
       "         4.93523440e-04, 2.81632427e-04, 3.26885321e-04],\n",
       "        [4.92325727e-04, 1.29079975e-03, 1.02954328e+00, ...,\n",
       "         2.98772127e-04, 9.93498228e-05, 9.22279916e-05],\n",
       "        ...,\n",
       "        [2.33797951e-04, 4.93523440e-04, 2.98772127e-04, ...,\n",
       "         1.03400520e+00, 1.40164495e-04, 1.45486240e-03],\n",
       "        [1.75245326e-04, 2.81632427e-04, 9.93498228e-05, ...,\n",
       "         1.40164495e-04, 1.02916685e+00, 3.60761102e-04],\n",
       "        [8.19728158e-05, 3.26885321e-04, 9.22279916e-05, ...,\n",
       "         1.45486240e-03, 3.60761102e-04, 1.03946832e+00]]),\n",
       " 'Laplacian': array([[0.03681188, 0.        , 0.        , ..., 0.        , 0.        ,\n",
       "         0.        ],\n",
       "        [0.        , 0.06177885, 0.        , ..., 0.        , 0.        ,\n",
       "         0.        ],\n",
       "        [0.        , 0.        , 0.03539302, ..., 0.        , 0.        ,\n",
       "         0.        ],\n",
       "        ...,\n",
       "        [0.        , 0.        , 0.        , ..., 0.06158052, 0.        ,\n",
       "         0.        ],\n",
       "        [0.        , 0.        , 0.        , ..., 0.        , 0.05305199,\n",
       "         0.        ],\n",
       "        [0.        , 0.        , 0.        , ..., 0.        , 0.        ,\n",
       "         0.06376597]]),\n",
       " 'Normalized Laplacian': array([[1., 0., 0., ..., 0., 0., 0.],\n",
       "        [0., 1., 0., ..., 0., 0., 0.],\n",
       "        [0., 0., 1., ..., 0., 0., 0.],\n",
       "        ...,\n",
       "        [0., 0., 0., ..., 1., 0., 0.],\n",
       "        [0., 0., 0., ..., 0., 1., 0.],\n",
       "        [0., 0., 0., ..., 0., 0., 1.]]),\n",
       " 'Diffusion matrix': array([[3.78896367e-01, 1.87885475e-04, 1.81116513e-04, ...,\n",
       "         8.60094596e-05, 6.44691525e-05, 3.01561137e-05],\n",
       "        [1.87885475e-04, 3.80804558e-01, 4.74858692e-04, ...,\n",
       "         1.81557127e-04, 1.03606780e-04, 1.20254389e-04],\n",
       "        [1.81116513e-04, 4.74858692e-04, 3.78747807e-01, ...,\n",
       "         1.09912123e-04, 3.65487573e-05, 3.39287820e-05],\n",
       "        ...,\n",
       "        [8.60094596e-05, 1.81557127e-04, 1.09912123e-04, ...,\n",
       "         3.80389254e-01, 5.15636363e-05, 5.35213966e-04],\n",
       "        [6.44691525e-05, 1.03606780e-04, 3.65487573e-05, ...,\n",
       "         5.15636363e-05, 3.78609326e-01, 1.32716593e-04],\n",
       "        [3.01561137e-05, 1.20254389e-04, 3.39287820e-05, ...,\n",
       "         5.35213966e-04, 1.32716593e-04, 3.82399025e-01]]),\n",
       " 'Markov transition matrix': array([[0., 0., 0., ..., 0., 0., 0.],\n",
       "        [0., 0., 0., ..., 0., 0., 0.],\n",
       "        [0., 0., 0., ..., 0., 0., 0.],\n",
       "        ...,\n",
       "        [0., 0., 0., ..., 0., 0., 0.],\n",
       "        [0., 0., 0., ..., 0., 0., 0.],\n",
       "        [0., 0., 0., ..., 0., 0., 0.]]),\n",
       " 'MFPT': array([[   0.        , 1120.96123891,  991.80586687, ...,  864.53879373,\n",
       "         1033.53365646,  819.77612908],\n",
       "        [1092.23465116,    0.        ,  990.93585693, ...,  864.25093498,\n",
       "         1033.0865019 ,  819.10264854],\n",
       "        [1092.28618858, 1119.3514792 ,    0.        , ...,  864.41319497,\n",
       "         1033.85281733,  819.49108283],\n",
       "        ...,\n",
       "        [1092.61833737, 1121.24155385,  992.01248794, ...,    0.        ,\n",
       "         1034.03426501,  816.46475478],\n",
       "        [1093.13458914, 1121.93728487,  992.75137192, ...,  865.69779369,\n",
       "            0.        ,  818.02013901],\n",
       "        [1093.8173526 , 1122.75621873,  992.94776695, ...,  862.6925949 ,\n",
       "         1032.57938363,    0.        ]]),\n",
       " 'Diffusion efficiency': array([[       inf, 0.00089209, 0.00100826, ..., 0.00115669, 0.00096755,\n",
       "         0.00121985],\n",
       "        [0.00091555,        inf, 0.00100915, ..., 0.00115707, 0.00096797,\n",
       "         0.00122085],\n",
       "        [0.00091551, 0.00089337,        inf, ..., 0.00115685, 0.00096726,\n",
       "         0.00122027],\n",
       "        ...,\n",
       "        [0.00091523, 0.00089187, 0.00100805, ...,        inf, 0.00096709,\n",
       "         0.00122479],\n",
       "        [0.0009148 , 0.00089132, 0.0010073 , ..., 0.00115514,        inf,\n",
       "         0.00122246],\n",
       "        [0.00091423, 0.00089067, 0.0010071 , ..., 0.00115916, 0.00096845,\n",
       "                inf]]),\n",
       " 'Adjacency': array([[0., 0., 0., ..., 0., 0., 0.],\n",
       "        [0., 0., 0., ..., 0., 0., 0.],\n",
       "        [0., 0., 0., ..., 0., 0., 0.],\n",
       "        ...,\n",
       "        [0., 0., 0., ..., 0., 0., 0.],\n",
       "        [0., 0., 0., ..., 0., 0., 0.],\n",
       "        [0., 0., 0., ..., 0., 0., 0.]]),\n",
       " 'TOM': array([[1.        , 0.04166667, 0.05882353, ..., 0.        , 0.        ,\n",
       "         0.        ],\n",
       "        [0.04166667, 1.        , 0.04166667, ..., 0.08333333, 0.        ,\n",
       "         0.04166667],\n",
       "        [0.05882353, 0.04166667, 1.        , ..., 0.        , 0.        ,\n",
       "         0.        ],\n",
       "        ...,\n",
       "        [0.        , 0.08333333, 0.        , ..., 1.        , 0.        ,\n",
       "         0.04347826],\n",
       "        [0.        , 0.        , 0.        , ..., 0.        , 1.        ,\n",
       "         0.        ],\n",
       "        [0.        , 0.04166667, 0.        , ..., 0.04347826, 0.        ,\n",
       "         1.        ]]),\n",
       " 'Matching index': array([[0.5       , 0.02439024, 0.03125   , ..., 0.        , 0.        ,\n",
       "         0.        ],\n",
       "        [0.02439024, 0.5       , 0.02564103, ..., 0.04255319, 0.        ,\n",
       "         0.02173913],\n",
       "        [0.03125   , 0.02564103, 0.5       , ..., 0.        , 0.        ,\n",
       "         0.        ],\n",
       "        ...,\n",
       "        [0.        , 0.04255319, 0.        , ..., 0.5       , 0.        ,\n",
       "         0.02222222],\n",
       "        [0.        , 0.        , 0.        , ..., 0.        , 0.5       ,\n",
       "         0.        ],\n",
       "        [0.        , 0.02173913, 0.        , ..., 0.02222222, 0.        ,\n",
       "         0.5       ]]),\n",
       " 'Shortest path lengths': array([[2., 2., 2., ..., 3., 3., 3.],\n",
       "        [2., 2., 2., ..., 2., 3., 2.],\n",
       "        [2., 2., 2., ..., 3., 3., 3.],\n",
       "        ...,\n",
       "        [3., 2., 3., ..., 2., 3., 2.],\n",
       "        [3., 3., 3., ..., 3., 2., 3.],\n",
       "        [3., 2., 3., ..., 2., 3., 2.]]),\n",
       " 'Communication efficiency': array([[0.5       , 0.5       , 0.5       , ..., 0.33333333, 0.33333333,\n",
       "         0.33333333],\n",
       "        [0.5       , 0.5       , 0.5       , ..., 0.5       , 0.33333333,\n",
       "         0.5       ],\n",
       "        [0.5       , 0.5       , 0.5       , ..., 0.33333333, 0.33333333,\n",
       "         0.33333333],\n",
       "        ...,\n",
       "        [0.33333333, 0.5       , 0.33333333, ..., 0.5       , 0.33333333,\n",
       "         0.5       ],\n",
       "        [0.33333333, 0.33333333, 0.33333333, ..., 0.33333333, 0.5       ,\n",
       "         0.33333333],\n",
       "        [0.33333333, 0.5       , 0.33333333, ..., 0.5       , 0.33333333,\n",
       "         0.5       ]])}"
      ]
     },
     "execution_count": 5,
     "metadata": {},
     "output_type": "execute_result"
    }
   ],
   "source": [
    "m"
   ]
  },
  {
   "cell_type": "code",
   "execution_count": 6,
   "id": "216849c1",
   "metadata": {},
   "outputs": [],
   "source": [
    "G = nx.karate_club_graph()\n",
    "A = nx.adjacency_matrix(G).todense()"
   ]
  },
  {
   "cell_type": "code",
   "execution_count": 7,
   "id": "820456b6",
   "metadata": {},
   "outputs": [
    {
     "name": "stdout",
     "output_type": "stream",
     "text": [
      "CPU times: user 3.72 ms, sys: 1.41 ms, total: 5.13 ms\n",
      "Wall time: 4.42 ms\n"
     ]
    }
   ],
   "source": [
    "%%time\n",
    "m = linear_fingerprint(A)"
   ]
  },
  {
   "cell_type": "code",
   "execution_count": 8,
   "id": "cfc7ab35",
   "metadata": {},
   "outputs": [],
   "source": [
    "G = nx.les_miserables_graph()\n",
    "A = nx.adjacency_matrix(G).todense()"
   ]
  },
  {
   "cell_type": "code",
   "execution_count": 9,
   "id": "ea59653c",
   "metadata": {},
   "outputs": [
    {
     "name": "stdout",
     "output_type": "stream",
     "text": [
      "CPU times: user 194 ms, sys: 5.83 ms, total: 200 ms\n",
      "Wall time: 38.1 ms\n"
     ]
    }
   ],
   "source": [
    "%%time\n",
    "m = linear_fingerprint(A)"
   ]
  },
  {
   "cell_type": "code",
   "execution_count": 10,
   "id": "f22a7771",
   "metadata": {},
   "outputs": [],
   "source": [
    "sizes = [175, 175, 300]\n",
    "probs = [[0.25, 0.05, 0.02], [0.05, 0.35, 0.07], [0.02, 0.07, 0.40]]\n",
    "G = nx.stochastic_block_model(sizes, probs, seed=0)\n",
    "A = nx.adjacency_matrix(G).todense()"
   ]
  },
  {
   "cell_type": "code",
   "execution_count": 11,
   "id": "980c082e",
   "metadata": {},
   "outputs": [
    {
     "name": "stdout",
     "output_type": "stream",
     "text": [
      "CPU times: user 4.22 s, sys: 57.5 ms, total: 4.28 s\n",
      "Wall time: 568 ms\n"
     ]
    }
   ],
   "source": [
    "%%time\n",
    "m = linear_fingerprint(A)"
   ]
  },
  {
   "cell_type": "code",
   "execution_count": 12,
   "id": "10e917c5",
   "metadata": {},
   "outputs": [
    {
     "data": {
      "text/plain": [
       "{'Weight: mean': 0.1581415194974517,\n",
       " 'Weight: std': 0.36487364841611786,\n",
       " 'Weight: min': 0.0,\n",
       " 'Weight: max': 1.0,\n",
       " 'Weight: mean eigenval': 0.0,\n",
       " 'Weight: std eigenval': 10.130836399520337,\n",
       " 'Weight: min eigenval': -17.926986645084906,\n",
       " 'Weight: dominant eigenval': 125.73422257615604,\n",
       " 'Weight: spectral gap': 64.81111906062574,\n",
       " 'Weight: number outliers': 3.0,\n",
       " 'Weight: mean eigenvec centrality': 0.0015384615384615382,\n",
       " 'Weight: std eigenvec centrality': 0.0010632724480100976,\n",
       " 'Weight: min eigenvec centrality': 0.00013282696661554054,\n",
       " 'Weight: max eigenvec centrality': 0.0031972951366273164,\n",
       " 'Weight: mean weighted degree': 102.63384615384615,\n",
       " 'Weight: std weighted degree': 34.172882982870306,\n",
       " 'Weight: min weighted degree': 39.0,\n",
       " 'Weight: max weighted degree': 165.0,\n",
       " 'Weight: mean similarity': 0.15967185015137375,\n",
       " 'Weight: std similarity': 0.12433170904766785,\n",
       " 'Weight: min similarity': 0.0,\n",
       " 'Weight: max similarity': 0.5168343975454958,\n",
       " 'Weight: mean communicability': 0.0026074186252861343,\n",
       " 'Weight: std communicability': 0.004066527090467296,\n",
       " 'Weight: min communicability': 6.994892064961233e-05,\n",
       " 'Weight: max communicability': 0.025182722512781086,\n",
       " 'Weight: stable rank': 4.219849469734663,\n",
       " 'Weight: mean singular val': 7.373715053148028,\n",
       " 'Weight: std singular val': 6.9470981329490575,\n",
       " 'Weight: max singular val': 125.73422257615593,\n",
       " 'Laplace: spectral gap': 0.2457195130247663,\n",
       " 'Laplace: mean eigenval': 1.0,\n",
       " 'Laplace: max eigenval': 1.2067634690392304,\n",
       " 'Laplace: mean steady state': 0.03863405393037331,\n",
       " 'Laplace: std steady state': 0.006772843964432367,\n",
       " 'Laplace: min steady state': 0.024178553933603672,\n",
       " 'Laplace: max steady state': 0.049732465690555824,\n",
       " 'Markov: spectral gap': 0.2591611080508476,\n",
       " 'Markov: relaxation time': 3.8586036597891042,\n",
       " 'Markov: mean abs eigenval': 0.0840781505395518,\n",
       " 'Markov: min abs eigenval': 0.00012023031173577626,\n",
       " 'Markov: mean steady state': 0.0015384615384615385,\n",
       " 'Markov: std steady state': 0.00015746191612205107,\n",
       " 'Markov: min steady state': 0.001050507215700398,\n",
       " 'Markov: max steady state': 0.0019966519006689057}"
      ]
     },
     "execution_count": 12,
     "metadata": {},
     "output_type": "execute_result"
    }
   ],
   "source": [
    "m"
   ]
  },
  {
   "cell_type": "code",
   "execution_count": null,
   "id": "e8e19bcf",
   "metadata": {},
   "outputs": [],
   "source": []
  }
 ],
 "metadata": {
  "kernelspec": {
   "display_name": "Python 3 (ipykernel)",
   "language": "python",
   "name": "python3"
  },
  "language_info": {
   "codemirror_mode": {
    "name": "ipython",
    "version": 3
   },
   "file_extension": ".py",
   "mimetype": "text/x-python",
   "name": "python",
   "nbconvert_exporter": "python",
   "pygments_lexer": "ipython3",
   "version": "3.11.6"
  }
 },
 "nbformat": 4,
 "nbformat_minor": 5
}
