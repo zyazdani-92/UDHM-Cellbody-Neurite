{
 "cells": [
  {
   "cell_type": "code",
   "execution_count": 1,
   "id": "3edd836c",
   "metadata": {},
   "outputs": [],
   "source": [
    "import matplotlib.pyplot as plt\n",
    "import numpy as np\n",
    "import json\n",
    "from scipy import stats\n",
    "from scipy.stats import probplot"
   ]
  },
  {
   "cell_type": "code",
   "execution_count": 287,
   "id": "1c567608",
   "metadata": {},
   "outputs": [],
   "source": [
    "def barplot_annotate_brackets(num1, num2, data, center, height, yerr=None, dh=.05, barh=.05, fs=None, maxasterix=None):\n",
    "    \"\"\" \n",
    "    Annotate barplot with p-values.\n",
    "\n",
    "    :param num1: number of left bar to put bracket over\n",
    "    :param num2: number of right bar to put bracket over\n",
    "    :param data: string to write or number for generating asterixes\n",
    "    :param center: centers of all bars (like plt.bar() input)\n",
    "    :param height: heights of all bars (like plt.bar() input)\n",
    "    :param yerr: yerrs of all bars (like plt.bar() input)\n",
    "    :param dh: height offset over bar / bar + yerr in axes coordinates (0 to 1)\n",
    "    :param barh: bar height in axes coordinates (0 to 1)\n",
    "    :param fs: font size\n",
    "    :param maxasterix: maximum number of asterixes to write (for very small p-values)\n",
    "    \"\"\"\n",
    "\n",
    "    if type(data) is str:\n",
    "        text = data\n",
    "    else:\n",
    "        # * is p < 0.05\n",
    "        # ** is p < 0.005\n",
    "        # *** is p < 0.0005\n",
    "        # etc.\n",
    "        text = ''\n",
    "        p = .05\n",
    "\n",
    "        while data < p:\n",
    "            text += '*'\n",
    "            p /= 10.\n",
    "\n",
    "            if maxasterix and len(text) == maxasterix:\n",
    "                break\n",
    "\n",
    "        if len(text) == 0:\n",
    "            text = 'n. s.'\n",
    "\n",
    "    lx, ly = center[num1], height[num1]\n",
    "    rx, ry = center[num2], height[num2]\n",
    "\n",
    "    if yerr:\n",
    "        ly += yerr[num1]\n",
    "        ry += yerr[num2]\n",
    "\n",
    "    ax_y0, ax_y1 = plt.gca().get_ylim()\n",
    "    dh *= (ax_y1 - ax_y0)\n",
    "    barh *= (ax_y1 - ax_y0)\n",
    "\n",
    "    y = max(ly, ry) + dh\n",
    "\n",
    "    barx = [lx, lx, rx, rx]\n",
    "    bary = [y, y+barh, y+barh, y]\n",
    "    mid = ((lx+rx)/2, y+barh)\n",
    "\n",
    "    plt.plot(barx, bary, c='black')\n",
    "\n",
    "    kwargs = dict(ha='center', va='bottom')\n",
    "    if fs is not None:\n",
    "        kwargs['fontsize'] = fs\n",
    "\n",
    "    plt.text(*mid, text, **kwargs)"
   ]
  },
  {
   "cell_type": "code",
   "execution_count": 334,
   "id": "207d6998",
   "metadata": {},
   "outputs": [],
   "source": [
    "# Load the dictionary from a JSON file\n",
    "with open('/Users/behnaz/NCADD/prediction_cell_neurite/Prediction_pipeline_Cell+Neurite/Dictionaries/group_data_num_components_arr.json', 'r') as file:\n",
    "    data = json.load(file)"
   ]
  },
  {
   "cell_type": "code",
   "execution_count": 335,
   "id": "a570b88d",
   "metadata": {},
   "outputs": [],
   "source": [
    "data_sort = {key: data[key] for key in sorted(data)}"
   ]
  },
  {
   "cell_type": "code",
   "execution_count": 339,
   "id": "f6d45012",
   "metadata": {},
   "outputs": [
    {
     "data": {
      "text/plain": [
       "dict_values([[66, 39, 43, 77, 110, 114, 65, 68, 97, 83, 73], [66, 45, 54, 22, 20, 21, 21, 21, 32, 28, 19], [28, 26, 28, 109, 13, 44, 34, 34, 48, 32, 25]])"
      ]
     },
     "execution_count": 339,
     "metadata": {},
     "output_type": "execute_result"
    }
   ],
   "source": [
    "merged_data = data_sort\n",
    "data_sort.values()"
   ]
  },
  {
   "cell_type": "code",
   "execution_count": 295,
   "id": "3925f85b",
   "metadata": {},
   "outputs": [
    {
     "data": {
      "text/plain": [
       "['D08', 'D12', 'D16']"
      ]
     },
     "execution_count": 295,
     "metadata": {},
     "output_type": "execute_result"
    }
   ],
   "source": [
    "# Get the keys and values\n",
    "keys = list(data_sort.keys())\n",
    "keys"
   ]
  },
  {
   "cell_type": "code",
   "execution_count": 219,
   "id": "fa4ff242",
   "metadata": {},
   "outputs": [],
   "source": [
    "\n",
    "\n",
    "# merged_data = {}\n",
    "\n",
    "# for key in data_sort.keys():\n",
    "#     # Merge all arrays for the current key into one array\n",
    "#     merged_array = np.concatenate(data_sort[key])\n",
    "#     print(np.min(merged_array))\n",
    "#     # Add the merged array to the new dictionary\n",
    "#     merged_data[key] = merged_array\n",
    "\n",
    "# merged_data"
   ]
  },
  {
   "cell_type": "code",
   "execution_count": 242,
   "id": "c7132e6c",
   "metadata": {},
   "outputs": [
    {
     "name": "stdout",
     "output_type": "stream",
     "text": [
      "Maximum value for D08: 528\n",
      "Maximum value for D12: 411\n",
      "Maximum value for D16: 282\n"
     ]
    }
   ],
   "source": [
    "# Initialize a dictionary to store the maximum values for each key\n",
    "max_values = {}\n",
    "\n",
    "# Specify the keys of interest\n",
    "keys_of_interest = ['D08', 'D12', 'D16']\n",
    "\n",
    "# Iterate over the keys of interest\n",
    "for key in keys_of_interest:\n",
    "    # Get the values for the current key\n",
    "    values = data_sort[key]\n",
    "    \n",
    "    # Initialize the maximum value for the current key\n",
    "    max_value = float('-inf')\n",
    "    \n",
    "    # Iterate over the nested lists and find the maximum value\n",
    "    for arr in values:\n",
    "        arr_max = np.max(arr)\n",
    "        if arr_max > max_value:\n",
    "            max_value = arr_max\n",
    "    \n",
    "    # Store the maximum value for the current key\n",
    "    max_values[key] = max_value\n",
    "\n",
    "# Print the maximum values for the keys of interest\n",
    "for key, value in max_values.items():\n",
    "    print(f\"Maximum value for {key}: {value}\")"
   ]
  },
  {
   "cell_type": "code",
   "execution_count": 243,
   "id": "546ea4e4",
   "metadata": {},
   "outputs": [
    {
     "name": "stdout",
     "output_type": "stream",
     "text": [
      "Length of 'D08': 11\n",
      "Length of 'D12': 11\n",
      "Length of 'D16': 11\n"
     ]
    }
   ],
   "source": [
    "for key, value in merged_data.items():\n",
    "    length = len(value)\n",
    "    print(f\"Length of '{key}': {length}\")"
   ]
  },
  {
   "cell_type": "code",
   "execution_count": 246,
   "id": "cf016da0",
   "metadata": {},
   "outputs": [
    {
     "name": "stdout",
     "output_type": "stream",
     "text": [
      "0.01669833352597436 0.0006526720764246201 0.24402286585514002\n"
     ]
    }
   ],
   "source": [
    "D08 = merged_data['D08']\n",
    "D12 = merged_data['D12']\n",
    "D16 = merged_data['D16']\n",
    "\n",
    "t_stat1, p_value1 = stats.ttest_ind(D08, D12, equal_var=False)\n",
    "t_stat2, p_value2 = stats.ttest_ind(D08, D16, equal_var=False)\n",
    "t_stat3, p_value3 = stats.ttest_ind(D16, D12, equal_var=False)\n",
    "print(p_value1,p_value2,p_value3)"
   ]
  },
  {
   "cell_type": "code",
   "execution_count": 245,
   "id": "9a96ab8e",
   "metadata": {},
   "outputs": [
    {
     "name": "stdout",
     "output_type": "stream",
     "text": [
      "0.039603960396039604 0.009900990099009901 0.24752475247524752\n"
     ]
    }
   ],
   "source": [
    "t_stat1, p_value1 = stats.ttest_ind(D08, D12, permutations = 100, equal_var=False)\n",
    "t_stat2, p_value2 = stats.ttest_ind(D08, D16, permutations = 100, equal_var=False)\n",
    "t_stat3, p_value3 = stats.ttest_ind(D16, D12, permutations = 100, equal_var=False)\n",
    "print(p_value1,p_value2,p_value3)"
   ]
  },
  {
   "cell_type": "code",
   "execution_count": 224,
   "id": "026344a9",
   "metadata": {},
   "outputs": [],
   "source": [
    "# rgb_codes = [(255, 116, 119)]\n",
    "# colors = ['#%02x%02x%02x' % rgb for rgb in rgb_codes]\n",
    "# colors"
   ]
  },
  {
   "cell_type": "code",
   "execution_count": 333,
   "id": "ff613212",
   "metadata": {},
   "outputs": [
    {
     "data": {
      "image/png": "[encoded data removed]",
      "text/plain": [
       "<Figure size 800x500 with 1 Axes>"
      ]
     },
     "metadata": {},
     "output_type": "display_data"
    }
   ],
   "source": [
    "import matplotlib.pyplot as plt\n",
    "import matplotlib.colors as mcolors\n",
    "from matplotlib import rcParams\n",
    "\n",
    "# Define the RGB codes\n",
    "rgb_codes = [(97, 226, 148),\n",
    "             (194, 196, 228),\n",
    "            (248, 176, 59)]\n",
    "\n",
    "# Convert RGB codes to color strings\n",
    "colors = ['#%02x%02x%02x' % rgb for rgb in rgb_codes]\n",
    "\n",
    "\n",
    "\n",
    "\n",
    "\n",
    "fig, ax = plt.subplots(figsize=(8, 5))\n",
    "\n",
    "\n",
    "# Create the box plot with y-axis limit and without outliers\n",
    "medianprops = dict(linestyle='-', linewidth=3, color='#ff7477') #{'color': '#1c77c3'}\n",
    "boxprops = dict(linestyle='-', linewidth=3, color='black')\n",
    "box = ax.boxplot(merged_data.values(), showfliers=False,boxprops=boxprops,medianprops=medianprops,\n",
    "                 showmeans=True,meanprops={\"marker\":\"D\", \"markerfacecolor\":\"white\", \n",
    "                      \"markeredgecolor\":\"black\",\n",
    "                      \"markersize\":\"5\"}) \n",
    "\n",
    "\n",
    "\n",
    "# Create empty lists to store x and y values\n",
    "x = []\n",
    "y = []\n",
    "\n",
    "# Iterate through each key in the dictionary\n",
    "for i, key in enumerate(merged_data):\n",
    "    x.extend([i + 1] * len(merged_data[key]))\n",
    "    y.extend(merged_data[key])\n",
    "    \n",
    "    # Generate random offsets for scatter plot\n",
    "    x_offset = np.random.uniform(low=-0.1, high=0.1, size=len(merged_data[key]))\n",
    "    y_offset = np.random.uniform(low=0, high=0.0001*193.0, size=len(merged_data[key]))\n",
    "    \n",
    "    # Plot scatter plot with color based on i\n",
    "    plt.scatter([i + 1] * len(merged_data[key]) + x_offset, \n",
    "                merged_data[key] + y_offset, color=colors[i % len(colors)],s=30, alpha=1)\n",
    "\n",
    "# Set the plot title and axis labels\n",
    "plt.title('group_data_num_components_arr')\n",
    "\n",
    "# Set the positions of the x-ticks\n",
    "xticks = range(1, len(merged_data.keys())+1)\n",
    "ax.set_xticks(xticks)\n",
    "ax.set_xticklabels(merged_data.keys())\n",
    "# Set the axis font size and font family\n",
    "\n",
    "rcParams['font.family'] = 'sans-serif'\n",
    "rcParams['font.sans-serif'] = ['Baskerville']\n",
    "\n",
    "ax.tick_params(axis='both', labelsize=22)\n",
    "# Set the y-axis limit\n",
    "ax.set_ylim(10,140)\n",
    "\n",
    "heights = [100,105,110]\n",
    "bars = np.arange(len(heights))+1\n",
    "barplot_annotate_brackets(0, 1, p_value1 , bars, heights,dh=0.1)#p_value1 \n",
    "barplot_annotate_brackets(0, 2, p_value2, bars, heights, dh=0.13)#p_value2\n",
    "barplot_annotate_brackets(1, 2, p_value3, bars, heights,dh=-0.40)#p_value3\n",
    "plt.savefig('group_data_num_components_arr.svg')\n",
    "\n",
    "plt.show()\n"
   ]
  },
  {
   "cell_type": "code",
   "execution_count": 2,
   "id": "aa066dfc",
   "metadata": {},
   "outputs": [
    {
     "name": "stdout",
     "output_type": "stream",
     "text": [
      "['#1c77c3', '#61e294', '#f8b03b', '#c2c4e4', '#ff7477']\n"
     ]
    }
   ],
   "source": [
    "### Define the RGB codes\n",
    "rgb_codes = [(28, 119, 195),\n",
    "             (97, 226, 148),\n",
    "             (248, 176, 59),\n",
    "             (194, 196, 228),\n",
    "             (255, 116, 119)]\n",
    "\n",
    "# Convert RGB codes to color strings\n",
    "colors = ['#%02x%02x%02x' % rgb for rgb in rgb_codes]\n",
    "\n",
    "# Print the list of colors\n",
    "print(colors)\n"
   ]
  },
  {
   "cell_type": "code",
   "execution_count": null,
   "id": "80a1b3a4",
   "metadata": {},
   "outputs": [],
   "source": []
  }
 ],
 "metadata": {
  "kernelspec": {
   "display_name": "Python 3 (ipykernel)",
   "language": "python",
   "name": "python3"
  },
  "language_info": {
   "codemirror_mode": {
    "name": "ipython",
    "version": 3
   },
   "file_extension": ".py",
   "mimetype": "text/x-python",
   "name": "python",
   "nbconvert_exporter": "python",
   "pygments_lexer": "ipython3",
   "version": "3.10.11"
  }
 },
 "nbformat": 4,
 "nbformat_minor": 5
}
