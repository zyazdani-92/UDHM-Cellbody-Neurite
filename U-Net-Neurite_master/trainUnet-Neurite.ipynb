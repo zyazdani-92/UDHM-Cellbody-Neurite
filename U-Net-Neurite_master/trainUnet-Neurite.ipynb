{
 "cells": [
  {
   "cell_type": "code",
   "execution_count": null,
   "metadata": {},
   "outputs": [],
   "source": [
    "# What version of Python do you have?\n",
    "import sys\n",
    "\n",
    "import tensorflow.keras\n",
    "import pandas as pd\n",
    "import sklearn as sk\n",
    "import tensorflow as tf\n",
    "import platform\n",
    "\n",
    "print(f\"Python Platform: {platform.platform()}\")\n",
    "print(f\"Tensor Flow Version: {tf.__version__}\")\n",
    "print(f\"Keras Version: {tensorflow.keras.__version__}\")\n",
    "print()\n",
    "print(f\"Python {sys.version}\")\n",
    "print(f\"Pandas {pd.__version__}\")\n",
    "print(f\"Scikit-Learn {sk.__version__}\")\n",
    "gpu = len(tf.config.list_physical_devices('GPU'))>0\n",
    "print(\"GPU is\", \"available\" if gpu else \"NOT AVAILABLE\")"
   ]
  },
  {
   "cell_type": "code",
   "execution_count": 3,
   "metadata": {},
   "outputs": [],
   "source": [
    "from Unet_neurite_model import *\n",
    "from data_128 import *"
   ]
  },
  {
   "cell_type": "code",
   "execution_count": 4,
   "metadata": {},
   "outputs": [],
   "source": [
    "import matplotlib.pyplot as plt\n",
    "import numpy as np\n",
    "from datetime import datetime\n",
    "from tensorflow.keras.models import *\n",
    "from tensorflow.keras.layers import *\n",
    "from tensorflow.keras.optimizers import *\n",
    "from tensorflow.keras.callbacks import ModelCheckpoint, LearningRateScheduler,EarlyStopping, ReduceLROnPlateau, TensorBoard\n",
    "from tensorflow.keras.optimizers import *"
   ]
  },
  {
   "cell_type": "markdown",
   "metadata": {},
   "source": [
    "## Train Unet_neurite_model"
   ]
  },
  {
   "cell_type": "code",
   "execution_count": 7,
   "metadata": {},
   "outputs": [
    {
     "name": "stderr",
     "output_type": "stream",
     "text": [
      "/Users/behnazyazdani/miniforge3/envs/tensorflow/lib/python3.9/site-packages/keras/optimizer_v2/optimizer_v2.py:357: UserWarning: The `lr` argument is deprecated, use `learning_rate` instead.\n",
      "  warnings.warn(\n",
      "2023-04-23 14:28:39.763983: I tensorflow/core/profiler/lib/profiler_session.cc:126] Profiler session initializing.\n",
      "2023-04-23 14:28:39.763994: I tensorflow/core/profiler/lib/profiler_session.cc:141] Profiler session started.\n",
      "2023-04-23 14:28:39.765355: I tensorflow/core/profiler/lib/profiler_session.cc:159] Profiler session tear down.\n",
      "/Users/behnazyazdani/miniforge3/envs/tensorflow/lib/python3.9/site-packages/keras/engine/training.py:1915: UserWarning: `Model.fit_generator` is deprecated and will be removed in a future version. Please use `Model.fit`, which supports generators.\n",
      "  warnings.warn('`Model.fit_generator` is deprecated and '\n"
     ]
    },
    {
     "name": "stdout",
     "output_type": "stream",
     "text": [
      "Found 657 images belonging to 1 classes.\n",
      "Found 657 images belonging to 1 classes.\n",
      "Epoch 1/50\n"
     ]
    },
    {
     "name": "stderr",
     "output_type": "stream",
     "text": [
      "2023-04-23 14:28:41.598813: I tensorflow/core/grappler/optimizers/custom_graph_optimizer_registry.cc:112] Plugin optimizer for device_type GPU is enabled.\n"
     ]
    },
    {
     "name": "stdout",
     "output_type": "stream",
     "text": [
      "\r",
      "  1/329 [..............................] - ETA: 16:45 - loss: 0.9421 - accuracy: 0.5365"
     ]
    },
    {
     "name": "stderr",
     "output_type": "stream",
     "text": [
      "2023-04-23 14:28:42.938331: I tensorflow/core/profiler/lib/profiler_session.cc:126] Profiler session initializing.\n",
      "2023-04-23 14:28:42.938343: I tensorflow/core/profiler/lib/profiler_session.cc:141] Profiler session started.\n"
     ]
    },
    {
     "name": "stdout",
     "output_type": "stream",
     "text": [
      "\b\b\b\b\b\b\b\b\b\b\b\b\b\b\b\b\b\b\b\b\b\b\b\b\b\b\b\b\b\b\b\b\b\b\b\b\b\b\b\b\b\b\b\b\b\b\b\b\b\b\b\b\b\b\b\b\b\b\b\b\b\b\b\b\b\b\b\b\b\b\b\b\b\b\b\b\b\b\b\b\b\b\b\b\b\b\b\r",
      "  2/329 [..............................] - ETA: 1:41 - loss: 0.9470 - accuracy: 0.4758 "
     ]
    },
    {
     "name": "stderr",
     "output_type": "stream",
     "text": [
      "2023-04-23 14:28:43.287505: I tensorflow/core/profiler/lib/profiler_session.cc:66] Profiler session collecting data.\n",
      "2023-04-23 14:28:43.294049: I tensorflow/core/profiler/lib/profiler_session.cc:159] Profiler session tear down.\n",
      "2023-04-23 14:28:43.299084: I tensorflow/core/profiler/rpc/client/save_profile.cc:137] Creating directory: logs/fit/20230423-142839/train/plugins/profile/2023_04_23_14_28_43\n",
      "2023-04-23 14:28:43.300730: I tensorflow/core/profiler/rpc/client/save_profile.cc:143] Dumped gzipped tool data for trace.json.gz to logs/fit/20230423-142839/train/plugins/profile/2023_04_23_14_28_43/Behnazs-MacBook-Air.local.trace.json.gz\n",
      "2023-04-23 14:28:43.304504: I tensorflow/core/profiler/rpc/client/save_profile.cc:137] Creating directory: logs/fit/20230423-142839/train/plugins/profile/2023_04_23_14_28_43\n",
      "2023-04-23 14:28:43.304676: I tensorflow/core/profiler/rpc/client/save_profile.cc:143] Dumped gzipped tool data for memory_profile.json.gz to logs/fit/20230423-142839/train/plugins/profile/2023_04_23_14_28_43/Behnazs-MacBook-Air.local.memory_profile.json.gz\n",
      "2023-04-23 14:28:43.305027: I tensorflow/core/profiler/rpc/client/capture_profile.cc:251] Creating directory: logs/fit/20230423-142839/train/plugins/profile/2023_04_23_14_28_43Dumped tool data for xplane.pb to logs/fit/20230423-142839/train/plugins/profile/2023_04_23_14_28_43/Behnazs-MacBook-Air.local.xplane.pb\n",
      "Dumped tool data for overview_page.pb to logs/fit/20230423-142839/train/plugins/profile/2023_04_23_14_28_43/Behnazs-MacBook-Air.local.overview_page.pb\n",
      "Dumped tool data for input_pipeline.pb to logs/fit/20230423-142839/train/plugins/profile/2023_04_23_14_28_43/Behnazs-MacBook-Air.local.input_pipeline.pb\n",
      "Dumped tool data for tensorflow_stats.pb to logs/fit/20230423-142839/train/plugins/profile/2023_04_23_14_28_43/Behnazs-MacBook-Air.local.tensorflow_stats.pb\n",
      "Dumped tool data for kernel_stats.pb to logs/fit/20230423-142839/train/plugins/profile/2023_04_23_14_28_43/Behnazs-MacBook-Air.local.kernel_stats.pb\n",
      "\n"
     ]
    },
    {
     "name": "stdout",
     "output_type": "stream",
     "text": [
      "329/329 [==============================] - ETA: 0s - loss: 0.6879 - accuracy: 0.5133Found 243 images belonging to 1 classes.\n",
      "Found 243 images belonging to 1 classes.\n"
     ]
    },
    {
     "name": "stderr",
     "output_type": "stream",
     "text": [
      "2023-04-23 14:30:13.542319: I tensorflow/core/grappler/optimizers/custom_graph_optimizer_registry.cc:112] Plugin optimizer for device_type GPU is enabled.\n"
     ]
    },
    {
     "name": "stdout",
     "output_type": "stream",
     "text": [
      "329/329 [==============================] - 103s 304ms/step - loss: 0.6876 - accuracy: 0.5135 - val_loss: 0.4849 - val_accuracy: 0.7594\n",
      "\n",
      "Epoch 00001: val_loss improved from inf to 0.48486, saving model to DHM_Neurite.hdf5\n",
      "Epoch 2/50\n",
      "329/329 [==============================] - 103s 313ms/step - loss: 0.4578 - accuracy: 0.6482 - val_loss: 0.5308 - val_accuracy: 0.5885\n",
      "\n",
      "Epoch 00002: val_loss did not improve from 0.48486\n",
      "Epoch 3/50\n",
      "329/329 [==============================] - 111s 336ms/step - loss: 0.3695 - accuracy: 0.6881 - val_loss: 0.4322 - val_accuracy: 0.7734\n",
      "\n",
      "Epoch 00003: val_loss improved from 0.48486 to 0.43216, saving model to DHM_Neurite.hdf5\n",
      "Epoch 4/50\n",
      "329/329 [==============================] - 114s 347ms/step - loss: 0.3282 - accuracy: 0.7016 - val_loss: 0.3269 - val_accuracy: 0.7657\n",
      "\n",
      "Epoch 00004: val_loss improved from 0.43216 to 0.32687, saving model to DHM_Neurite.hdf5\n",
      "Epoch 5/50\n",
      "329/329 [==============================] - 121s 368ms/step - loss: 0.2979 - accuracy: 0.7153 - val_loss: 0.2916 - val_accuracy: 0.7801\n",
      "\n",
      "Epoch 00005: val_loss improved from 0.32687 to 0.29156, saving model to DHM_Neurite.hdf5\n",
      "Epoch 6/50\n",
      "329/329 [==============================] - 124s 377ms/step - loss: 0.2733 - accuracy: 0.7191 - val_loss: 0.3562 - val_accuracy: 0.7595\n",
      "\n",
      "Epoch 00006: val_loss did not improve from 0.29156\n",
      "Epoch 7/50\n",
      "329/329 [==============================] - 128s 390ms/step - loss: 0.2647 - accuracy: 0.7304 - val_loss: 0.3193 - val_accuracy: 0.7673\n",
      "\n",
      "Epoch 00007: val_loss did not improve from 0.29156\n",
      "Epoch 8/50\n",
      "329/329 [==============================] - 136s 414ms/step - loss: 0.2577 - accuracy: 0.7180 - val_loss: 0.2300 - val_accuracy: 0.7863\n",
      "\n",
      "Epoch 00008: val_loss improved from 0.29156 to 0.22999, saving model to DHM_Neurite.hdf5\n",
      "Epoch 9/50\n",
      "329/329 [==============================] - 145s 442ms/step - loss: 0.2596 - accuracy: 0.7217 - val_loss: 0.2953 - val_accuracy: 0.7657\n",
      "\n",
      "Epoch 00009: val_loss did not improve from 0.22999\n",
      "Epoch 10/50\n",
      "329/329 [==============================] - 145s 442ms/step - loss: 0.2526 - accuracy: 0.7191 - val_loss: 0.2551 - val_accuracy: 0.7773\n",
      "\n",
      "Epoch 00010: val_loss did not improve from 0.22999\n",
      "Epoch 11/50\n",
      "329/329 [==============================] - 153s 465ms/step - loss: 0.2496 - accuracy: 0.7179 - val_loss: 0.2755 - val_accuracy: 0.7664\n",
      "\n",
      "Epoch 00011: val_loss did not improve from 0.22999\n",
      "Epoch 12/50\n",
      "329/329 [==============================] - 145s 441ms/step - loss: 0.2408 - accuracy: 0.7229 - val_loss: 0.2426 - val_accuracy: 0.7820\n",
      "\n",
      "Epoch 00012: val_loss did not improve from 0.22999\n",
      "Epoch 13/50\n",
      "329/329 [==============================] - 156s 476ms/step - loss: 0.2424 - accuracy: 0.7221 - val_loss: 0.2760 - val_accuracy: 0.7760\n",
      "\n",
      "Epoch 00013: val_loss did not improve from 0.22999\n",
      "\n",
      "Epoch 00013: ReduceLROnPlateau reducing learning rate to 1e-05.\n",
      "Epoch 14/50\n",
      "329/329 [==============================] - 154s 469ms/step - loss: 0.2281 - accuracy: 0.7338 - val_loss: 0.3155 - val_accuracy: 0.7666\n",
      "\n",
      "Epoch 00014: val_loss did not improve from 0.22999\n",
      "Epoch 15/50\n",
      "329/329 [==============================] - 161s 489ms/step - loss: 0.2375 - accuracy: 0.7200 - val_loss: 0.2927 - val_accuracy: 0.7783\n",
      "\n",
      "Epoch 00015: val_loss did not improve from 0.22999\n",
      "Epoch 16/50\n",
      "329/329 [==============================] - 157s 477ms/step - loss: 0.2348 - accuracy: 0.7123 - val_loss: 0.3100 - val_accuracy: 0.7589\n",
      "\n",
      "Epoch 00016: val_loss did not improve from 0.22999\n",
      "Epoch 17/50\n",
      "329/329 [==============================] - 181s 551ms/step - loss: 0.2396 - accuracy: 0.7089 - val_loss: 0.2838 - val_accuracy: 0.7950\n",
      "\n",
      "Epoch 00017: val_loss did not improve from 0.22999\n",
      "Epoch 18/50\n",
      "329/329 [==============================] - 162s 493ms/step - loss: 0.2288 - accuracy: 0.7237 - val_loss: 0.2984 - val_accuracy: 0.7756\n",
      "\n",
      "Epoch 00018: val_loss did not improve from 0.22999\n",
      "Epoch 00018: early stopping\n"
     ]
    }
   ],
   "source": [
    "NUM_EPOCHS= 50\n",
    "BATCH_SIZE = 2\n",
    "NUM_TRAIN_IMAGES= 658\n",
    "NUM_VAL_IMAGES= 244\n",
    "save_to_dir_train = \"/Users/behnazyazdani/unet-master/data/save_path\" \n",
    "save_to_dir_val = \"/Users/behnazyazdani/unet-master/data/save_path_val\"\n",
    "\n",
    "data_gen_args = dict(rotation_range=0.2,\n",
    "                    width_shift_range=0.05,\n",
    "                    height_shift_range=0.05,\n",
    "                    shear_range=0.05,\n",
    "                    zoom_range=0.05,\n",
    "                    horizontal_flip=True,\n",
    "                     rescale = 1./255,\n",
    "                    fill_mode='nearest')\n",
    "\n",
    "myGene = trainGenerator(BATCH_SIZE,'data/train','img','label',data_gen_args, save_to_dir = None)\n",
    "valGene = valGenerator(BATCH_SIZE,'data/val','img','label',data_gen_args, save_to_dir = None)\n",
    "\n",
    "\n",
    "# Unet deep learning model\n",
    "model = unet(img_shape=(128,128,1), out_ch=1, start_ch=64, layer=4, inc_rate=2., activation='relu', dropout=0.3,\n",
    "             batchnorm=True, maxpool=True)\n",
    "model.compile(optimizer = adam_v2.Adam(lr = 1e-4), loss = 'binary_crossentropy', metrics = ['accuracy'])\n",
    "\n",
    "\n",
    "# setup callback function\n",
    "early_stopping = EarlyStopping(patience=10, verbose=1)\n",
    "reduce_lr = ReduceLROnPlateau(factor=0.1, patience=5, min_lr=0.00001, verbose=1)\n",
    "model_checkpoint = ModelCheckpoint('DHM_Neurite.hdf5', monitor='val_loss',verbose=1, save_best_only=True)\n",
    "log_dir = \"logs/fit/\" + datetime.now().strftime(\"%Y%m%d-%H%M%S\")\n",
    "tensorboard_callback = TensorBoard(log_dir=log_dir)\n",
    "\n",
    "\n",
    "# Train the model\n",
    "H = model.fit_generator(myGene,steps_per_epoch=NUM_TRAIN_IMAGES/BATCH_SIZE,epochs=NUM_EPOCHS,\n",
    "                         callbacks=[ model_checkpoint,tensorboard_callback,early_stopping,reduce_lr],\n",
    "                        validation_data=valGene,\n",
    "                       validation_steps=NUM_VAL_IMAGES/BATCH_SIZE)"
   ]
  },
  {
   "cell_type": "code",
   "execution_count": 9,
   "metadata": {},
   "outputs": [
    {
     "data": {
      "text/plain": [
       "<matplotlib.legend.Legend at 0x2c2758340>"
      ]
     },
     "execution_count": 9,
     "metadata": {},
     "output_type": "execute_result"
    },
    {
     "data": {
      "image/png": "[encoded data removed]",
      "text/plain": [
       "<Figure size 432x288 with 1 Axes>"
      ]
     },
     "metadata": {},
     "output_type": "display_data"
    }
   ],
   "source": [
    "plt.figure()\n",
    "plt.plot(H.epoch, H.history[\"loss\"], label=\"train_loss\")\n",
    "plt.plot(H.epoch, H.history[\"val_loss\"], label=\"val_loss\")\n",
    "plt.grid(False)  # Remove grid\n",
    "plt.title(\"Training loss and accuracy on cell dataset\")\n",
    "plt.xlabel(\"Epoch #\")\n",
    "plt.ylabel(\"Loss\")\n",
    "plt.legend(loc=\"lower left\")\n",
    "plt.savefig(\"DHM_Neurite_loss_curve.svg\")"
   ]
  },
  {
   "cell_type": "markdown",
   "metadata": {},
   "source": [
    "### Test the model on the unseen data and save the predicted results."
   ]
  },
  {
   "cell_type": "code",
   "execution_count": 12,
   "metadata": {},
   "outputs": [
    {
     "name": "stdout",
     "output_type": "stream",
     "text": [
      "50\n"
     ]
    },
    {
     "name": "stderr",
     "output_type": "stream",
     "text": [
      "/Users/behnazyazdani/miniforge3/envs/tensorflow/lib/python3.9/site-packages/keras/engine/training.py:1976: UserWarning: `Model.predict_generator` is deprecated and will be removed in a future version. Please use `Model.predict`, which supports generators.\n",
      "  warnings.warn('`Model.predict_generator` is deprecated and '\n"
     ]
    },
    {
     "name": "stdout",
     "output_type": "stream",
     "text": [
      " 4/50 [=>............................] - ETA: 0s "
     ]
    },
    {
     "name": "stderr",
     "output_type": "stream",
     "text": [
      "2023-03-14 10:37:20.927871: I tensorflow/core/grappler/optimizers/custom_graph_optimizer_registry.cc:112] Plugin optimizer for device_type GPU is enabled.\n"
     ]
    },
    {
     "name": "stdout",
     "output_type": "stream",
     "text": [
      "50/50 [==============================] - 1s 15ms/step\n"
     ]
    }
   ],
   "source": [
    "# Predict the test data\n",
    "NUM_TEST_IMAGES=50\n",
    "test_path= \"/Users/behnazyazdani/unet-master/data/master_test/img\"\n",
    "file_list = [f for f in os.listdir(test_path) if f[-3:]==\"tif\"]\n",
    "print(len(file_list)) \n",
    "file_list=os.listdir(test_path)   \n",
    "testGene = testGenerator(test_path,file_list)\n",
    "results = model.predict_generator(testGene,NUM_TEST_IMAGES,verbose=1)\n",
    "saveResult(\"/Users/behnazyazdani/unet-master/data/master_test/prediction\",results,file_list)"
   ]
  }
 ],
 "metadata": {
  "kernelspec": {
   "display_name": "Python 3.10 (tensorflow)",
   "language": "python",
   "name": "tensorflow"
  },
  "language_info": {
   "codemirror_mode": {
    "name": "ipython",
    "version": 3
   },
   "file_extension": ".py",
   "mimetype": "text/x-python",
   "name": "python",
   "nbconvert_exporter": "python",
   "pygments_lexer": "ipython3",
   "version": "3.10.11"
  }
 },
 "nbformat": 4,
 "nbformat_minor": 2
}
