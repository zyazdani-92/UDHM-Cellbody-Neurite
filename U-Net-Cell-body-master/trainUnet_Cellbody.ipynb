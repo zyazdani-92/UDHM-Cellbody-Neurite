{
 "cells": [
  {
   "cell_type": "code",
   "execution_count": 1,
   "metadata": {},
   "outputs": [
    {
     "name": "stdout",
     "output_type": "stream",
     "text": [
      "Python Platform: macOS-13.3.1-arm64-arm-64bit\n",
      "Tensor Flow Version: 2.12.0\n",
      "Keras Version: 2.12.0\n",
      "\n",
      "Python 3.10.11 (main, Apr 20 2023, 13:58:42) [Clang 14.0.6 ]\n",
      "Pandas 1.5.3\n",
      "Scikit-Learn 1.2.2\n",
      "GPU is available\n"
     ]
    }
   ],
   "source": [
    "# What version of Python do you have?\n",
    "import sys\n",
    "\n",
    "import tensorflow.keras\n",
    "import pandas as pd\n",
    "import sklearn as sk\n",
    "import tensorflow as tf\n",
    "import platform\n",
    "\n",
    "print(f\"Python Platform: {platform.platform()}\")\n",
    "print(f\"Tensor Flow Version: {tf.__version__}\")\n",
    "print(f\"Keras Version: {tensorflow.keras.__version__}\")\n",
    "print()\n",
    "print(f\"Python {sys.version}\")\n",
    "print(f\"Pandas {pd.__version__}\")\n",
    "print(f\"Scikit-Learn {sk.__version__}\")\n",
    "gpu = len(tf.config.list_physical_devices('GPU'))>0\n",
    "print(\"GPU is\", \"available\" if gpu else \"NOT AVAILABLE\")"
   ]
  },
  {
   "cell_type": "code",
   "execution_count": 2,
   "metadata": {},
   "outputs": [],
   "source": [
    "from Unet_cell_body_model import *\n",
    "from data_128 import *"
   ]
  },
  {
   "cell_type": "code",
   "execution_count": 3,
   "metadata": {},
   "outputs": [],
   "source": [
    "import matplotlib.pyplot as plt\n",
    "import numpy as np\n",
    "from datetime import datetime\n",
    "from tensorflow.keras.models import *\n",
    "from tensorflow.keras.layers import *\n",
    "from tensorflow.keras.optimizers import *\n",
    "from tensorflow.keras.callbacks import ModelCheckpoint, LearningRateScheduler,EarlyStopping, ReduceLROnPlateau, TensorBoard\n",
    "from tensorflow.keras.optimizers import *"
   ]
  },
  {
   "cell_type": "markdown",
   "metadata": {},
   "source": [
    "## Train your Unet with membrane data\n",
    "membrane data is in folder membrane/, it is a binary classification task.\n",
    "\n",
    "The input shape of image and mask are the same :(batch_size,rows,cols,channel = 1)"
   ]
  },
  {
   "cell_type": "code",
   "execution_count": 4,
   "metadata": {},
   "outputs": [
    {
     "name": "stderr",
     "output_type": "stream",
     "text": [
      "2023-04-23 22:07:00.325064: I tensorflow/core/profiler/lib/profiler_session.cc:126] Profiler session initializing.\n",
      "2023-04-23 22:07:00.325074: I tensorflow/core/profiler/lib/profiler_session.cc:141] Profiler session started.\n",
      "2023-04-23 22:07:00.325088: I tensorflow/core/profiler/lib/profiler_session.cc:159] Profiler session tear down.\n"
     ]
    },
    {
     "name": "stdout",
     "output_type": "stream",
     "text": [
      "Found 9520 images belonging to 1 classes.\n",
      "Found 9520 images belonging to 1 classes.\n",
      "Epoch 1/50\n"
     ]
    },
    {
     "name": "stderr",
     "output_type": "stream",
     "text": [
      "2023-04-23 22:07:02.561721: I tensorflow/core/grappler/optimizers/custom_graph_optimizer_registry.cc:112] Plugin optimizer for device_type GPU is enabled.\n"
     ]
    },
    {
     "name": "stdout",
     "output_type": "stream",
     "text": [
      "\r",
      "   1/4760 [..............................] - ETA: 3:06:06 - loss: 0.9903 - accuracy: 0.4420"
     ]
    },
    {
     "name": "stderr",
     "output_type": "stream",
     "text": [
      "2023-04-23 22:07:03.261995: I tensorflow/core/profiler/lib/profiler_session.cc:126] Profiler session initializing.\n",
      "2023-04-23 22:07:03.262009: I tensorflow/core/profiler/lib/profiler_session.cc:141] Profiler session started.\n"
     ]
    },
    {
     "name": "stdout",
     "output_type": "stream",
     "text": [
      "\b\b\b\b\b\b\b\b\b\b\b\b\b\b\b\b\b\b\b\b\b\b\b\b\b\b\b\b\b\b\b\b\b\b\b\b\b\b\b\b\b\b\b\b\b\b\b\b\b\b\b\b\b\b\b\b\b\b\b\b\b\b\b\b\b\b\b\b\b\b\b\b\b\b\b\b\b\b\b\b\b\b\b\b\b\b\b\b\b\b\b\r",
      "   2/4760 [..............................] - ETA: 26:05 - loss: 0.9689 - accuracy: 0.4599  "
     ]
    },
    {
     "name": "stderr",
     "output_type": "stream",
     "text": [
      "2023-04-23 22:07:03.613420: I tensorflow/core/profiler/lib/profiler_session.cc:66] Profiler session collecting data.\n",
      "2023-04-23 22:07:03.614228: I tensorflow/core/profiler/lib/profiler_session.cc:159] Profiler session tear down.\n",
      "2023-04-23 22:07:03.615454: I tensorflow/core/profiler/rpc/client/save_profile.cc:137] Creating directory: logs/fit/20230423-220700/train/plugins/profile/2023_04_23_22_07_03\n",
      "2023-04-23 22:07:03.616198: I tensorflow/core/profiler/rpc/client/save_profile.cc:143] Dumped gzipped tool data for trace.json.gz to logs/fit/20230423-220700/train/plugins/profile/2023_04_23_22_07_03/Behnazs-MacBook-Air.local.trace.json.gz\n",
      "2023-04-23 22:07:03.616861: I tensorflow/core/profiler/rpc/client/save_profile.cc:137] Creating directory: logs/fit/20230423-220700/train/plugins/profile/2023_04_23_22_07_03\n",
      "2023-04-23 22:07:03.617204: I tensorflow/core/profiler/rpc/client/save_profile.cc:143] Dumped gzipped tool data for memory_profile.json.gz to logs/fit/20230423-220700/train/plugins/profile/2023_04_23_22_07_03/Behnazs-MacBook-Air.local.memory_profile.json.gz\n",
      "2023-04-23 22:07:03.617621: I tensorflow/core/profiler/rpc/client/capture_profile.cc:251] Creating directory: logs/fit/20230423-220700/train/plugins/profile/2023_04_23_22_07_03Dumped tool data for xplane.pb to logs/fit/20230423-220700/train/plugins/profile/2023_04_23_22_07_03/Behnazs-MacBook-Air.local.xplane.pb\n",
      "Dumped tool data for overview_page.pb to logs/fit/20230423-220700/train/plugins/profile/2023_04_23_22_07_03/Behnazs-MacBook-Air.local.overview_page.pb\n",
      "Dumped tool data for input_pipeline.pb to logs/fit/20230423-220700/train/plugins/profile/2023_04_23_22_07_03/Behnazs-MacBook-Air.local.input_pipeline.pb\n",
      "Dumped tool data for tensorflow_stats.pb to logs/fit/20230423-220700/train/plugins/profile/2023_04_23_22_07_03/Behnazs-MacBook-Air.local.tensorflow_stats.pb\n",
      "Dumped tool data for kernel_stats.pb to logs/fit/20230423-220700/train/plugins/profile/2023_04_23_22_07_03/Behnazs-MacBook-Air.local.kernel_stats.pb\n",
      "\n"
     ]
    },
    {
     "name": "stdout",
     "output_type": "stream",
     "text": [
      "4760/4760 [==============================] - ETA: 0s - loss: 0.2779 - accuracy: 0.9262Found 2380 images belonging to 1 classes.\n",
      "Found 2380 images belonging to 1 classes.\n"
     ]
    },
    {
     "name": "stderr",
     "output_type": "stream",
     "text": [
      "2023-04-23 22:35:27.288909: I tensorflow/core/grappler/optimizers/custom_graph_optimizer_registry.cc:112] Plugin optimizer for device_type GPU is enabled.\n"
     ]
    },
    {
     "name": "stdout",
     "output_type": "stream",
     "text": [
      "4760/4760 [==============================] - 1852s 389ms/step - loss: 0.2779 - accuracy: 0.9262 - val_loss: 0.1390 - val_accuracy: 0.9398\n",
      "\n",
      "Epoch 00001: val_loss improved from inf to 0.13905, saving model to DHM_cell.hdf5\n",
      "Epoch 2/50\n",
      "4760/4760 [==============================] - 2103s 442ms/step - loss: 0.1006 - accuracy: 0.9517 - val_loss: 0.1005 - val_accuracy: 0.9487\n",
      "\n",
      "Epoch 00002: val_loss improved from 0.13905 to 0.10051, saving model to DHM_cell.hdf5\n",
      "Epoch 3/50\n",
      "4760/4760 [==============================] - 2183s 459ms/step - loss: 0.0918 - accuracy: 0.9544 - val_loss: 0.1248 - val_accuracy: 0.9374\n",
      "\n",
      "Epoch 00003: val_loss did not improve from 0.10051\n",
      "Epoch 4/50\n",
      "4760/4760 [==============================] - 2135s 448ms/step - loss: 0.0883 - accuracy: 0.9548 - val_loss: 0.1017 - val_accuracy: 0.9481\n",
      "\n",
      "Epoch 00004: val_loss did not improve from 0.10051\n",
      "Epoch 5/50\n",
      "4760/4760 [==============================] - 2119s 445ms/step - loss: 0.0843 - accuracy: 0.9557 - val_loss: 0.0888 - val_accuracy: 0.9548\n",
      "\n",
      "Epoch 00005: val_loss improved from 0.10051 to 0.08879, saving model to DHM_cell.hdf5\n",
      "Epoch 6/50\n",
      "4760/4760 [==============================] - 2151s 452ms/step - loss: 0.0806 - accuracy: 0.9563 - val_loss: 0.0869 - val_accuracy: 0.9549\n",
      "\n",
      "Epoch 00006: val_loss improved from 0.08879 to 0.08695, saving model to DHM_cell.hdf5\n",
      "Epoch 7/50\n",
      "4760/4760 [==============================] - 2395s 503ms/step - loss: 0.0789 - accuracy: 0.9571 - val_loss: 0.0898 - val_accuracy: 0.9549\n",
      "\n",
      "Epoch 00007: val_loss did not improve from 0.08695\n",
      "Epoch 8/50\n",
      "4760/4760 [==============================] - 2357s 495ms/step - loss: 0.0741 - accuracy: 0.9583 - val_loss: 0.0839 - val_accuracy: 0.9561\n",
      "\n",
      "Epoch 00008: val_loss improved from 0.08695 to 0.08393, saving model to DHM_cell.hdf5\n",
      "Epoch 9/50\n",
      "4760/4760 [==============================] - 2355s 495ms/step - loss: 0.0723 - accuracy: 0.9592 - val_loss: 0.0918 - val_accuracy: 0.9552\n",
      "\n",
      "Epoch 00009: val_loss did not improve from 0.08393\n",
      "Epoch 10/50\n",
      "4760/4760 [==============================] - 2349s 493ms/step - loss: 0.0733 - accuracy: 0.9588 - val_loss: 0.0837 - val_accuracy: 0.9565\n",
      "\n",
      "Epoch 00010: val_loss improved from 0.08393 to 0.08369, saving model to DHM_cell.hdf5\n",
      "Epoch 11/50\n",
      "4760/4760 [==============================] - 2336s 491ms/step - loss: 0.0714 - accuracy: 0.9594 - val_loss: 0.0885 - val_accuracy: 0.9560\n",
      "\n",
      "Epoch 00011: val_loss did not improve from 0.08369\n",
      "Epoch 12/50\n",
      "4760/4760 [==============================] - 2325s 488ms/step - loss: 0.0689 - accuracy: 0.9597 - val_loss: 0.0897 - val_accuracy: 0.9569\n",
      "\n",
      "Epoch 00012: val_loss did not improve from 0.08369\n",
      "Epoch 13/50\n",
      "4760/4760 [==============================] - 2328s 489ms/step - loss: 0.0691 - accuracy: 0.9602 - val_loss: 0.1015 - val_accuracy: 0.9532\n",
      "\n",
      "Epoch 00013: val_loss did not improve from 0.08369\n",
      "Epoch 14/50\n",
      "4760/4760 [==============================] - 2375s 499ms/step - loss: 0.0675 - accuracy: 0.9601 - val_loss: 0.0855 - val_accuracy: 0.9568\n",
      "\n",
      "Epoch 00014: val_loss did not improve from 0.08369\n",
      "Epoch 15/50\n",
      "4760/4760 [==============================] - 2402s 505ms/step - loss: 0.0669 - accuracy: 0.9608 - val_loss: 0.0834 - val_accuracy: 0.9563\n",
      "\n",
      "Epoch 00015: val_loss improved from 0.08369 to 0.08343, saving model to DHM_cell.hdf5\n",
      "Epoch 16/50\n",
      "4760/4760 [==============================] - 2418s 508ms/step - loss: 0.0637 - accuracy: 0.9613 - val_loss: 0.0949 - val_accuracy: 0.9545\n",
      "\n",
      "Epoch 00016: val_loss did not improve from 0.08343\n",
      "Epoch 17/50\n",
      "4760/4760 [==============================] - 2147s 451ms/step - loss: 0.0669 - accuracy: 0.9606 - val_loss: 0.0897 - val_accuracy: 0.9562\n",
      "\n",
      "Epoch 00017: val_loss did not improve from 0.08343\n",
      "Epoch 18/50\n",
      "4760/4760 [==============================] - 2371s 498ms/step - loss: 0.0639 - accuracy: 0.9615 - val_loss: 0.0829 - val_accuracy: 0.9578\n",
      "\n",
      "Epoch 00018: val_loss improved from 0.08343 to 0.08287, saving model to DHM_cell.hdf5\n",
      "Epoch 19/50\n",
      "4760/4760 [==============================] - 2674s 562ms/step - loss: 0.0639 - accuracy: 0.9616 - val_loss: 0.0874 - val_accuracy: 0.9541\n",
      "\n",
      "Epoch 00019: val_loss did not improve from 0.08287\n",
      "Epoch 20/50\n",
      "4760/4760 [==============================] - 2383s 500ms/step - loss: 0.0629 - accuracy: 0.9614 - val_loss: 0.0984 - val_accuracy: 0.9530\n",
      "\n",
      "Epoch 00020: val_loss did not improve from 0.08287\n",
      "Epoch 21/50\n",
      "4760/4760 [==============================] - 2059s 432ms/step - loss: 0.0619 - accuracy: 0.9622 - val_loss: 0.0824 - val_accuracy: 0.9573\n",
      "\n",
      "Epoch 00021: val_loss improved from 0.08287 to 0.08243, saving model to DHM_cell.hdf5\n",
      "Epoch 22/50\n",
      "4760/4760 [==============================] - 2200s 462ms/step - loss: 0.0622 - accuracy: 0.9623 - val_loss: 0.0859 - val_accuracy: 0.9569\n",
      "\n",
      "Epoch 00022: val_loss did not improve from 0.08243\n",
      "Epoch 23/50\n",
      "4760/4760 [==============================] - 2257s 474ms/step - loss: 0.0612 - accuracy: 0.9623 - val_loss: 0.0849 - val_accuracy: 0.9580\n",
      "\n",
      "Epoch 00023: val_loss did not improve from 0.08243\n",
      "Epoch 24/50\n",
      "4760/4760 [==============================] - 2321s 488ms/step - loss: 0.0618 - accuracy: 0.9621 - val_loss: 0.0846 - val_accuracy: 0.9580\n",
      "\n",
      "Epoch 00024: val_loss did not improve from 0.08243\n",
      "Epoch 25/50\n",
      "4760/4760 [==============================] - 2059s 433ms/step - loss: 0.0597 - accuracy: 0.9628 - val_loss: 0.0862 - val_accuracy: 0.9579\n",
      "\n",
      "Epoch 00025: val_loss did not improve from 0.08243\n",
      "Epoch 26/50\n",
      "4760/4760 [==============================] - 2087s 438ms/step - loss: 0.0612 - accuracy: 0.9621 - val_loss: 0.0907 - val_accuracy: 0.9549\n",
      "\n",
      "Epoch 00026: val_loss did not improve from 0.08243\n",
      "\n",
      "Epoch 00026: ReduceLROnPlateau reducing learning rate to 1e-05.\n",
      "Epoch 27/50\n",
      "4760/4760 [==============================] - 2104s 442ms/step - loss: 0.0590 - accuracy: 0.9633 - val_loss: 0.0827 - val_accuracy: 0.9588\n",
      "\n",
      "Epoch 00027: val_loss did not improve from 0.08243\n",
      "Epoch 28/50\n",
      "4760/4760 [==============================] - 2709s 569ms/step - loss: 0.0578 - accuracy: 0.9636 - val_loss: 0.0870 - val_accuracy: 0.9573\n",
      "\n",
      "Epoch 00028: val_loss did not improve from 0.08243\n",
      "Epoch 29/50\n",
      "4760/4760 [==============================] - 2330s 489ms/step - loss: 0.0556 - accuracy: 0.9641 - val_loss: 0.0892 - val_accuracy: 0.9583\n",
      "\n",
      "Epoch 00029: val_loss did not improve from 0.08243\n",
      "Epoch 30/50\n",
      "4760/4760 [==============================] - 2299s 483ms/step - loss: 0.0566 - accuracy: 0.9637 - val_loss: 0.0835 - val_accuracy: 0.9589\n",
      "\n",
      "Epoch 00030: val_loss did not improve from 0.08243\n",
      "Epoch 31/50\n",
      "4760/4760 [==============================] - 2461s 517ms/step - loss: 0.0571 - accuracy: 0.9637 - val_loss: 0.0823 - val_accuracy: 0.9588\n",
      "\n",
      "Epoch 00031: val_loss improved from 0.08243 to 0.08233, saving model to DHM_cell.hdf5\n",
      "Epoch 32/50\n",
      "4760/4760 [==============================] - 2334s 490ms/step - loss: 0.0567 - accuracy: 0.9641 - val_loss: 0.0844 - val_accuracy: 0.9592\n",
      "\n",
      "Epoch 00032: val_loss did not improve from 0.08233\n",
      "Epoch 33/50\n",
      "4760/4760 [==============================] - 2203s 463ms/step - loss: 0.0550 - accuracy: 0.9641 - val_loss: 0.0885 - val_accuracy: 0.9588\n",
      "\n",
      "Epoch 00033: val_loss did not improve from 0.08233\n",
      "Epoch 34/50\n",
      "4760/4760 [==============================] - 2009s 422ms/step - loss: 0.0550 - accuracy: 0.9643 - val_loss: 0.0868 - val_accuracy: 0.9587\n",
      "\n",
      "Epoch 00034: val_loss did not improve from 0.08233\n",
      "Epoch 35/50\n",
      "4760/4760 [==============================] - 2282s 479ms/step - loss: 0.0538 - accuracy: 0.9645 - val_loss: 0.0844 - val_accuracy: 0.9589\n",
      "\n",
      "Epoch 00035: val_loss did not improve from 0.08233\n",
      "Epoch 36/50\n",
      "4760/4760 [==============================] - 2053s 431ms/step - loss: 0.0545 - accuracy: 0.9646 - val_loss: 0.0845 - val_accuracy: 0.9591\n",
      "\n",
      "Epoch 00036: val_loss did not improve from 0.08233\n",
      "Epoch 37/50\n",
      "4760/4760 [==============================] - 2130s 447ms/step - loss: 0.0536 - accuracy: 0.9647 - val_loss: 0.0856 - val_accuracy: 0.9591\n",
      "\n",
      "Epoch 00037: val_loss did not improve from 0.08233\n",
      "Epoch 38/50\n",
      "4760/4760 [==============================] - 2087s 438ms/step - loss: 0.0549 - accuracy: 0.9642 - val_loss: 0.0822 - val_accuracy: 0.9597\n",
      "\n",
      "Epoch 00038: val_loss improved from 0.08233 to 0.08216, saving model to DHM_cell.hdf5\n",
      "Epoch 39/50\n",
      "4760/4760 [==============================] - 2080s 437ms/step - loss: 0.0551 - accuracy: 0.9643 - val_loss: 0.0927 - val_accuracy: 0.9585\n",
      "\n",
      "Epoch 00039: val_loss did not improve from 0.08216\n",
      "Epoch 40/50\n",
      "4760/4760 [==============================] - 2336s 491ms/step - loss: 0.0549 - accuracy: 0.9642 - val_loss: 0.0850 - val_accuracy: 0.9594\n",
      "\n",
      "Epoch 00040: val_loss did not improve from 0.08216\n",
      "Epoch 41/50\n",
      "4760/4760 [==============================] - 2288s 481ms/step - loss: 0.0541 - accuracy: 0.9644 - val_loss: 0.0875 - val_accuracy: 0.9585\n",
      "\n",
      "Epoch 00041: val_loss did not improve from 0.08216\n",
      "Epoch 42/50\n",
      "4760/4760 [==============================] - 2281s 479ms/step - loss: 0.0547 - accuracy: 0.9643 - val_loss: 0.0818 - val_accuracy: 0.9598\n",
      "\n",
      "Epoch 00042: val_loss improved from 0.08216 to 0.08181, saving model to DHM_cell.hdf5\n",
      "Epoch 43/50\n",
      "4760/4760 [==============================] - 2252s 473ms/step - loss: 0.0552 - accuracy: 0.9643 - val_loss: 0.0891 - val_accuracy: 0.9588\n",
      "\n",
      "Epoch 00043: val_loss did not improve from 0.08181\n",
      "Epoch 44/50\n",
      "4760/4760 [==============================] - 2242s 471ms/step - loss: 0.0554 - accuracy: 0.9639 - val_loss: 0.0877 - val_accuracy: 0.9593\n",
      "\n",
      "Epoch 00044: val_loss did not improve from 0.08181\n",
      "Epoch 45/50\n",
      "4760/4760 [==============================] - 2263s 475ms/step - loss: 0.0541 - accuracy: 0.9646 - val_loss: 0.0870 - val_accuracy: 0.9596\n",
      "\n",
      "Epoch 00045: val_loss did not improve from 0.08181\n",
      "Epoch 46/50\n",
      "4760/4760 [==============================] - 2238s 470ms/step - loss: 0.0538 - accuracy: 0.9646 - val_loss: 0.0882 - val_accuracy: 0.9593\n",
      "\n",
      "Epoch 00046: val_loss did not improve from 0.08181\n",
      "Epoch 47/50\n",
      "4760/4760 [==============================] - 2254s 474ms/step - loss: 0.0531 - accuracy: 0.9649 - val_loss: 0.0897 - val_accuracy: 0.9591\n",
      "\n",
      "Epoch 00047: val_loss did not improve from 0.08181\n",
      "Epoch 48/50\n",
      "4760/4760 [==============================] - 2272s 477ms/step - loss: 0.0540 - accuracy: 0.9647 - val_loss: 0.0878 - val_accuracy: 0.9594\n",
      "\n",
      "Epoch 00048: val_loss did not improve from 0.08181\n",
      "Epoch 49/50\n",
      "4760/4760 [==============================] - 2268s 477ms/step - loss: 0.0545 - accuracy: 0.9643 - val_loss: 0.0865 - val_accuracy: 0.9593\n",
      "\n",
      "Epoch 00049: val_loss did not improve from 0.08181\n",
      "Epoch 50/50\n",
      "4760/4760 [==============================] - 2273s 477ms/step - loss: 0.0542 - accuracy: 0.9645 - val_loss: 0.0855 - val_accuracy: 0.9595\n",
      "\n",
      "Epoch 00050: val_loss did not improve from 0.08181\n"
     ]
    }
   ],
   "source": [
    "NUM_EPOCHS= 50\n",
    "BATCH_SIZE = 2\n",
    "NUM_TRAIN_IMAGES= 9520\n",
    "NUM_VAL_IMAGES= 2380\n",
    "save_to_dir_train = \"/Users/behnazyazdani/unet-master/data/save_path\" \n",
    "save_to_dir_val = \"/Users/behnazyazdani/unet-master/data/save_path_val\"\n",
    "\n",
    "data_gen_args = dict(rotation_range=0.2,\n",
    "                    width_shift_range=0.05,\n",
    "                    height_shift_range=0.05,\n",
    "                    shear_range=0.05,\n",
    "                    zoom_range=0.05,\n",
    "                    horizontal_flip=True,\n",
    "                     rescale = 1./255,\n",
    "                    fill_mode='nearest')\n",
    "\n",
    "myGene = trainGenerator(BATCH_SIZE,'data/train','img','lbl',data_gen_args, save_to_dir = None)\n",
    "valGene = valGenerator(BATCH_SIZE,'data/val','img','lbl',data_gen_args, save_to_dir = None)\n",
    "\n",
    "\n",
    "# Unet deep learning model\n",
    "model = unet(img_shape=(128,128,1), out_ch=1, start_ch=64, layer=4, inc_rate=2., activation='relu', dropout=0.3,\n",
    "             batchnorm=True, maxpool=True)\n",
    "model.compile(optimizer = adam_v2.Adam(lr = 1e-4), loss = 'binary_crossentropy', metrics = ['accuracy'])\n",
    "\n",
    "\n",
    "# setup callback function\n",
    "early_stopping = EarlyStopping(patience=10, verbose=1)\n",
    "reduce_lr = ReduceLROnPlateau(factor=0.1, patience=5, min_lr=0.00001, verbose=1)\n",
    "model_checkpoint = ModelCheckpoint('DHM_cell.hdf5', monitor='val_loss',verbose=1, save_best_only=True)\n",
    "log_dir = \"logs/fit/\" + datetime.now().strftime(\"%Y%m%d-%H%M%S\")\n",
    "tensorboard_callback = TensorBoard(log_dir=log_dir)\n",
    "\n",
    "\n",
    "# Train the model\n",
    "H = model.fit_generator(myGene,steps_per_epoch=NUM_TRAIN_IMAGES/BATCH_SIZE,epochs=NUM_EPOCHS,\n",
    "                         callbacks=[ model_checkpoint,tensorboard_callback,early_stopping,reduce_lr],\n",
    "                        validation_data=valGene,\n",
    "                       validation_steps=NUM_VAL_IMAGES/BATCH_SIZE)"
   ]
  },
  {
   "cell_type": "code",
   "execution_count": 5,
   "metadata": {},
   "outputs": [
    {
     "data": {
      "image/png": "[encoded data removed]",
      "text/plain": [
       "<Figure size 432x288 with 1 Axes>"
      ]
     },
     "metadata": {
      "needs_background": "light"
     },
     "output_type": "display_data"
    }
   ],
   "source": [
    "plt.figure()\n",
    "plt.plot(H.epoch, H.history[\"loss\"], label=\"train_loss\")\n",
    "plt.plot(H.epoch, H.history[\"val_loss\"], label=\"val_loss\")\n",
    "plt.grid(False)  # Remove grid\n",
    "plt.title(\"Training loss and accuracy on cell dataset\")\n",
    "plt.xlabel(\"Epoch #\")\n",
    "plt.ylabel(\"Loss\")\n",
    "plt.legend(loc=\"lower left\")\n",
    "plt.savefig(\"DHM_Cell_loss_curve_layer4.svg\")"
   ]
  },
  {
   "cell_type": "markdown",
   "metadata": {},
   "source": [
    "### Test the model on the unseen data and save the predicted results."
   ]
  },
  {
   "cell_type": "code",
   "execution_count": 12,
   "metadata": {},
   "outputs": [
    {
     "name": "stdout",
     "output_type": "stream",
     "text": [
      "50\n"
     ]
    },
    {
     "name": "stderr",
     "output_type": "stream",
     "text": [
      "/Users/behnazyazdani/miniforge3/envs/tensorflow/lib/python3.9/site-packages/keras/engine/training.py:1976: UserWarning: `Model.predict_generator` is deprecated and will be removed in a future version. Please use `Model.predict`, which supports generators.\n",
      "  warnings.warn('`Model.predict_generator` is deprecated and '\n"
     ]
    },
    {
     "name": "stdout",
     "output_type": "stream",
     "text": [
      " 4/50 [=>............................] - ETA: 0s "
     ]
    },
    {
     "name": "stderr",
     "output_type": "stream",
     "text": [
      "2023-03-14 10:37:20.927871: I tensorflow/core/grappler/optimizers/custom_graph_optimizer_registry.cc:112] Plugin optimizer for device_type GPU is enabled.\n"
     ]
    },
    {
     "name": "stdout",
     "output_type": "stream",
     "text": [
      "50/50 [==============================] - 1s 15ms/step\n"
     ]
    }
   ],
   "source": [
    "# Predict the test data\n",
    "NUM_TEST_IMAGES=50\n",
    "test_path= \"/Users/behnazyazdani/unet-master/data/master_test/img\"\n",
    "file_list = [f for f in os.listdir(test_path) if f[-3:]==\"tif\"]\n",
    "print(len(file_list)) \n",
    "file_list=os.listdir(test_path)   \n",
    "testGene = testGenerator(test_path,file_list)\n",
    "results = model.predict_generator(testGene,NUM_TEST_IMAGES,verbose=1)\n",
    "saveResult(\"/Users/behnazyazdani/unet-master/data/master_test/prediction\",results,file_list)"
   ]
  },
  {
   "cell_type": "markdown",
   "metadata": {},
   "source": [
    "### Use different methods to increase model accuracy: "
   ]
  },
  {
   "cell_type": "markdown",
   "metadata": {},
   "source": [
    "1. model = unet(img_shape=(128,128,1), out_ch=1, start_ch=64, depth=4, inc_rate=2., activation='relu', dropout=0.5,\n",
    "             batchnorm=False, maxpool=True, upconv=True, residual=False)\n",
    "             \n",
    "2. model = unet(img_shape=(128,128,1), out_ch=1, start_ch=32, depth=4, inc_rate=2., activation='relu', dropout=0.5,\n",
    "             batchnorm=False, maxpool=True, upconv=True, residual=False)\n",
    "             \n",
    "3. model = unet(img_shape=(128,128,1), out_ch=1, start_ch=32, depth=4, inc_rate=2., activation='relu', dropout=0.6,\n",
    "             batchnorm=False, maxpool=True, upconv=True, residual=False)\n",
    "             \n",
    "4. model = unet(img_shape=(128,128,1), out_ch=1, start_ch=64, depth=4, inc_rate=2., activation='relu', dropout=0.3,\n",
    "             batchnorm=False, maxpool=True, upconv=True, residual=False)\n",
    "\n",
    "5. H = model.fit_generator(myGene,steps_per_epoch=1000,epochs=NUM_EPOCHS,\n",
    "                        callbacks=[ model_checkpoint,tensorboard_callback,early_stopping,reduce_lr])\n",
    "                        \n",
    "                        NUM_EPOCHS=5\n",
    "                        \n",
    "                        \n",
    "6. H = model.fit_generator(myGene,steps_per_epoch=1000,epochs=NUM_EPOCHS,\n",
    "                        callbacks=[ model_checkpoint,tensorboard_callback,early_stopping,reduce_lr],\n",
    "                       validation_data=valGene,\n",
    "                      validation_steps=NUM_VAL_IMAGES/BATCH_SIZE)\n",
    "                      \n",
    "                      data_gen_args = dict(rotation_range=0.2,\n",
    "                    width_shift_range=0.05,\n",
    "                    height_shift_range=0.05,\n",
    "                    shear_range=0.05,\n",
    "                    zoom_range=0.05,\n",
    "                    horizontal_flip=True,\n",
    "                     rescale = 1./255,\n",
    "                    fill_mode='nearest')\n",
    "                    \n",
    "7. NUM_EPOCHS= changed from 50 to 100\n",
    "\n",
    "\n",
    "8. \"\"\" def upconv_block(inputs, out_channels, activation='relu', kernel_size=(3, 3), strides=(2, 2), padding='same'):\n",
    "    x = Conv2DTranspose(out_channels, kernel_size, strides=strides, padding=padding)(inputs)\n",
    "    x = Activation(activation)(x)\n",
    "    return x \"\"\" \n",
    "    \n",
    "    is used instead of \n",
    "    \n",
    "    \n",
    "    \"\"\"\" def upconv_block(inputs, out_channels, activation='relu', kernel_size=(3, 3), strides=(2, 2), padding='same'):\n",
    "   x = UpSampling2D(size=strides)(inputs)\n",
    "      x = Conv2D(out_channels, kernel_size, padding=padding)(x)\n",
    "     x = Activation(activation)(x)\n",
    "     return x \"\"\"\n",
    "     \n",
    "     and \"upconv=True\" change to \"upconv=False\" in the following\n",
    "     \n",
    "     \n",
    "     \n",
    "9. from tm2 import *\n",
    "\n",
    "10. from tm4 import * (tm4 is now my_model)\n",
    "     \n",
    "     \n",
    " #### Decrease gap in learning curve:\n",
    " \n",
    " 10-1. Decrace layer from 4 going to the 3.\n",
    " \n",
    "  10-2. Decrace layer from 3 going to the 2."
   ]
  }
 ],
 "metadata": {
  "kernelspec": {
   "display_name": "Python 3 (ipykernel)",
   "language": "python",
   "name": "python3"
  },
  "language_info": {
   "codemirror_mode": {
    "name": "ipython",
    "version": 3
   },
   "file_extension": ".py",
   "mimetype": "text/x-python",
   "name": "python",
   "nbconvert_exporter": "python",
   "pygments_lexer": "ipython3",
   "version": "3.10.11"
  }
 },
 "nbformat": 4,
 "nbformat_minor": 2
}
