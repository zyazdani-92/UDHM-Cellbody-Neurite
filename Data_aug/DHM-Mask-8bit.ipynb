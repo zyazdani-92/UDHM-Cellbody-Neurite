{
 "cells": [
  {
   "cell_type": "markdown",
   "id": "03a12eb0",
   "metadata": {},
   "source": [
    "# DHM 8-bit"
   ]
  },
  {
   "cell_type": "code",
   "execution_count": 5,
   "id": "65ad1314",
   "metadata": {},
   "outputs": [],
   "source": [
    "import skimage.io as io\n",
    "import matplotlib.pyplot as plt\n",
    "from PIL import Image\n",
    "import os\n",
    "import cv2\n",
    "import numpy as np \n",
    "\n",
    "def convert_images_to_8bit(DHM_test_path, DHM_save_path, as_gray=True):\n",
    "    \"\"\"\n",
    "    Convert images in a directory to 8-bit format and save them in a specified directory.\n",
    "\n",
    "    Args:\n",
    "        DHM_test_path (str): Directory path containing input images.\n",
    "        DHM_save_path (str): Directory path to save the converted images.\n",
    "        as_gray (bool, optional): Whether to convert the images to grayscale. Default is True.\n",
    "    \"\"\"\n",
    "    DHM_file_list = [f for f in os.listdir(DHM_test_path) if f[-3:]==\"tif\"]\n",
    "    for i in range(len(DHM_file_list)):\n",
    "        img = Image.open(os.path.join(DHM_test_path, DHM_file_list[i]))\n",
    "        img = np.array(img)\n",
    "        fimg = cv2.normalize(img, None, alpha=0, beta=255, norm_type=cv2.NORM_MINMAX, dtype=cv2.CV_8U)\n",
    "        filename = os.path.join(DHM_save_path, os.path.splitext(DHM_file_list[i])[0] + \".tif\")\n",
    "        io.imsave(filename, fimg)\n",
    "\n",
    "DHM_test_path = '/Users/behnazyazdani/Img_augmentation/DHM'\n",
    "DHM_save_path = '/Users/behnazyazdani/Img_augmentation/test/img'\n",
    "\n",
    "convert_images_to_8bit(DHM_test_path, DHM_save_path, as_gray=True)\n"
   ]
  },
  {
   "cell_type": "markdown",
   "id": "84ca4024",
   "metadata": {},
   "source": [
    "# Mask 8-bit"
   ]
  },
  {
   "cell_type": "code",
   "execution_count": 7,
   "id": "a4356fe7",
   "metadata": {},
   "outputs": [
    {
     "name": "stderr",
     "output_type": "stream",
     "text": [
      "/var/folders/v5/bwhfmjqj76q64_jsz9fyv3z40000gn/T/ipykernel_1615/3970054814.py:24: UserWarning: /Users/behnazyazdani/Img_augmentation/test/mask/MAX_Rec_BS_2022_08_15_D18_CS5_cp_masks.tif is a boolean image: setting True to 255 and False to 0. To silence this warning, please convert the image using img_as_ubyte.\n",
      "  io.imsave(filename, mask_img)\n",
      "/var/folders/v5/bwhfmjqj76q64_jsz9fyv3z40000gn/T/ipykernel_1615/3970054814.py:24: UserWarning: /Users/behnazyazdani/Img_augmentation/test/mask/MAX_Rec_BS_2022_08_15_D18_CS2_cp_masks.tif is a boolean image: setting True to 255 and False to 0. To silence this warning, please convert the image using img_as_ubyte.\n",
      "  io.imsave(filename, mask_img)\n",
      "/var/folders/v5/bwhfmjqj76q64_jsz9fyv3z40000gn/T/ipykernel_1615/3970054814.py:24: UserWarning: /Users/behnazyazdani/Img_augmentation/test/mask/MAX_Rec_BS_2022_08_09_D12_CS2_cp_masks.tif is a boolean image: setting True to 255 and False to 0. To silence this warning, please convert the image using img_as_ubyte.\n",
      "  io.imsave(filename, mask_img)\n",
      "/var/folders/v5/bwhfmjqj76q64_jsz9fyv3z40000gn/T/ipykernel_1615/3970054814.py:24: UserWarning: /Users/behnazyazdani/Img_augmentation/test/mask/MAX_Rec_BS_2023_03_28_D12_CS4_R1_cp_masks.tif is a boolean image: setting True to 255 and False to 0. To silence this warning, please convert the image using img_as_ubyte.\n",
      "  io.imsave(filename, mask_img)\n",
      "/var/folders/v5/bwhfmjqj76q64_jsz9fyv3z40000gn/T/ipykernel_1615/3970054814.py:24: UserWarning: /Users/behnazyazdani/Img_augmentation/test/mask/MAX_Rec_BS_2023_03_28_D12_CS4_R1_cp_masks.tif is a low contrast image\n",
      "  io.imsave(filename, mask_img)\n",
      "/var/folders/v5/bwhfmjqj76q64_jsz9fyv3z40000gn/T/ipykernel_1615/3970054814.py:24: UserWarning: /Users/behnazyazdani/Img_augmentation/test/mask/MAX_Rec_BS_2023_03_28_D12_CS4_R3_cp_masks.tif is a boolean image: setting True to 255 and False to 0. To silence this warning, please convert the image using img_as_ubyte.\n",
      "  io.imsave(filename, mask_img)\n",
      "/var/folders/v5/bwhfmjqj76q64_jsz9fyv3z40000gn/T/ipykernel_1615/3970054814.py:24: UserWarning: /Users/behnazyazdani/Img_augmentation/test/mask/MAX_Rec_BS_2023_03_28_D19_CS2_R4_cp_masks.tif is a boolean image: setting True to 255 and False to 0. To silence this warning, please convert the image using img_as_ubyte.\n",
      "  io.imsave(filename, mask_img)\n",
      "/var/folders/v5/bwhfmjqj76q64_jsz9fyv3z40000gn/T/ipykernel_1615/3970054814.py:24: UserWarning: /Users/behnazyazdani/Img_augmentation/test/mask/MAX_Rec_BS_2023_03_28_D19_CS2_R5_cp_masks.tif is a boolean image: setting True to 255 and False to 0. To silence this warning, please convert the image using img_as_ubyte.\n",
      "  io.imsave(filename, mask_img)\n",
      "/var/folders/v5/bwhfmjqj76q64_jsz9fyv3z40000gn/T/ipykernel_1615/3970054814.py:24: UserWarning: /Users/behnazyazdani/Img_augmentation/test/mask/MAX_Rec_BS_2023_03_28_D19_CS2_R5_cp_masks.tif is a low contrast image\n",
      "  io.imsave(filename, mask_img)\n",
      "/var/folders/v5/bwhfmjqj76q64_jsz9fyv3z40000gn/T/ipykernel_1615/3970054814.py:24: UserWarning: /Users/behnazyazdani/Img_augmentation/test/mask/MAX_Rec_BS_2022_09_22_D07_CS3_cp_masks.tif is a boolean image: setting True to 255 and False to 0. To silence this warning, please convert the image using img_as_ubyte.\n",
      "  io.imsave(filename, mask_img)\n",
      "/var/folders/v5/bwhfmjqj76q64_jsz9fyv3z40000gn/T/ipykernel_1615/3970054814.py:24: UserWarning: /Users/behnazyazdani/Img_augmentation/test/mask/MAX_Rec_BS_2023_03_28_D12_CS5_R2_cp_masks.tif is a boolean image: setting True to 255 and False to 0. To silence this warning, please convert the image using img_as_ubyte.\n",
      "  io.imsave(filename, mask_img)\n",
      "/var/folders/v5/bwhfmjqj76q64_jsz9fyv3z40000gn/T/ipykernel_1615/3970054814.py:24: UserWarning: /Users/behnazyazdani/Img_augmentation/test/mask/MAX_Rec_BS_2022_10_07_D15_CS4_cp_masks.tif is a boolean image: setting True to 255 and False to 0. To silence this warning, please convert the image using img_as_ubyte.\n",
      "  io.imsave(filename, mask_img)\n",
      "/var/folders/v5/bwhfmjqj76q64_jsz9fyv3z40000gn/T/ipykernel_1615/3970054814.py:24: UserWarning: /Users/behnazyazdani/Img_augmentation/test/mask/MAX_Rec_BS_2023_03_28_D12_CS5_R3_cp_masks.tif is a boolean image: setting True to 255 and False to 0. To silence this warning, please convert the image using img_as_ubyte.\n",
      "  io.imsave(filename, mask_img)\n",
      "/var/folders/v5/bwhfmjqj76q64_jsz9fyv3z40000gn/T/ipykernel_1615/3970054814.py:24: UserWarning: /Users/behnazyazdani/Img_augmentation/test/mask/MAX_Rec_BS_2022_10_07_D15_CS5_cp_masks.tif is a boolean image: setting True to 255 and False to 0. To silence this warning, please convert the image using img_as_ubyte.\n",
      "  io.imsave(filename, mask_img)\n"
     ]
    }
   ],
   "source": [
    "import skimage.io as io\n",
    "import matplotlib.pyplot as plt\n",
    "from PIL import Image\n",
    "import os\n",
    "import cv2\n",
    "import numpy as np \n",
    "\n",
    "def convert_masks_to_8bit(Mask_test_path, Mask_save_path, as_gray=True):\n",
    "    \"\"\"\n",
    "    Convert mask images in a directory to 8-bit format and save them in a specified directory.\n",
    "\n",
    "    Args:\n",
    "        Mask_test_path (str): Directory path containing input mask images.\n",
    "        Mask_save_path (str): Directory path to save the converted mask images.\n",
    "        as_gray (bool, optional): Whether to convert the mask images to grayscale. Default is True.\n",
    "    \"\"\"\n",
    "    Mask_file_list = [f for f in os.listdir(Mask_test_path) if f[-3:]==\"png\"]\n",
    "    for i in range(len(Mask_file_list)):\n",
    "        img = Image.open(os.path.join(Mask_test_path, Mask_file_list[i]))\n",
    "        img = np.array(img)\n",
    "        img_uint8 = img.astype(np.uint8)\n",
    "        mask_img = img_uint8 > 0.99\n",
    "        filename = os.path.join(Mask_save_path, os.path.splitext(Mask_file_list[i])[0] + \".tif\")\n",
    "        io.imsave(filename, mask_img)\n",
    "\n",
    "Mask_test_path = '/Users/behnazyazdani/Img_augmentation/test'\n",
    "Mask_save_path = '/Users/behnazyazdani/Img_augmentation/test/mask'\n",
    "\n",
    "convert_masks_to_8bit(Mask_test_path, Mask_save_path, as_gray=True)\n"
   ]
  },
  {
   "cell_type": "code",
   "execution_count": null,
   "id": "8350a298",
   "metadata": {},
   "outputs": [],
   "source": []
  }
 ],
 "metadata": {
  "kernelspec": {
   "display_name": "Python 3 (ipykernel)",
   "language": "python",
   "name": "python3"
  },
  "language_info": {
   "codemirror_mode": {
    "name": "ipython",
    "version": 3
   },
   "file_extension": ".py",
   "mimetype": "text/x-python",
   "name": "python",
   "nbconvert_exporter": "python",
   "pygments_lexer": "ipython3",
   "version": "3.10.11"
  }
 },
 "nbformat": 4,
 "nbformat_minor": 5
}
