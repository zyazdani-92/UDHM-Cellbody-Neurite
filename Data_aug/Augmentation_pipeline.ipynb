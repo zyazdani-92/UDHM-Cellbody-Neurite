{
 "cells": [
  {
   "cell_type": "markdown",
   "id": "a10db955",
   "metadata": {},
   "source": [
    "# Pipeline for augmenting the size of training and validation samples"
   ]
  },
  {
   "cell_type": "code",
   "execution_count": null,
   "id": "c4e037e9",
   "metadata": {},
   "outputs": [],
   "source": [
    "import os\n",
    "import numpy as np\n",
    "from skimage import io\n",
    "from random import randrange\n",
    "from skimage.transform import rotate\n",
    "from skimage.io import imread"
   ]
  },
  {
   "cell_type": "markdown",
   "id": "41722c26",
   "metadata": {},
   "source": [
    "### Sorting the labels of the two image directories (lbl + img) together."
   ]
  },
  {
   "cell_type": "code",
   "execution_count": null,
   "id": "3791c7a6",
   "metadata": {},
   "outputs": [],
   "source": [
    "DHM_path = '/Users/behnaz/NCADD/Unet_Cell_body_a2023_v1/cell_body_data/train_data/test/img/'\n",
    "DHM_all_tif_files = []\n",
    "N = 0\n",
    "for file in os.listdir(DHM_path):\n",
    "    if file.startswith(\"\"):\n",
    "        if file.endswith(\".tif\"):\n",
    "            DHM_all_tif_files.append(file)\n",
    "            N+=1\n",
    "        \n",
    "DHM_all_names = [] \n",
    "for file in DHM_all_tif_files: \n",
    "    DHM_all_names.append(file[:-4])\n",
    "   \n",
    "    \n",
    "DHM_all_names = sorted(DHM_all_names, key = lambda x: (str(x[10:])))\n",
    "DHM_all_sorted_tiff_files = [name+'.tif' for name in DHM_all_names]\n",
    "DHM_all_sorted_directories = [ DHM_path + \"/\" + file for file in DHM_all_sorted_tiff_files ]\n",
    "\n",
    "\n",
    "Mask_path = '/Users/behnaz/NCADD/Unet_Cell_body_a2023_v1/cell_body_data/train_data/test/lbl/'\n",
    "M_all_tiff_files = []\n",
    "N = 0\n",
    "for file in os.listdir(Mask_path):\n",
    "    if file.startswith(\"\"):\n",
    "        if file.endswith(\"Masks.tif\"):\n",
    "            M_all_tiff_files.append(file)\n",
    "            N+=1\n",
    "        \n",
    "M_all_names = [] \n",
    "for file in M_all_tiff_files: \n",
    "    M_all_names.append(file[:-4])\n",
    "  \n",
    "    \n",
    "M_all_names = sorted(M_all_names, key = lambda x: (str(x[10:])))\n",
    "M_all_sorted_tiff_files = [name+'.tif' for name in M_all_names]\n",
    "M_all_sorted_directories = [ Mask_path + \"/\" + file for file in M_all_sorted_tiff_files ]\n",
    "\n",
    "  \n",
    "    \n",
    "pre_all_names = sorted(pre_all_names, key = lambda x: (str(x[10:])))\n",
    "pre_all_sorted_tiff_files = [name+'.tif' for name in pre_all_names]\n",
    "pre_all_sorted_directories = [ prediction_path + \"/\" + file for file in pre_all_sorted_tiff_files ]\n",
    "for i in range(len(DHM_all_names)):\n",
    "    print(DHM_all_sorted_directories[i])\n",
    "    print(M_all_sorted_directories[i])\n",
    "    print('\\n')"
   ]
  },
  {
   "cell_type": "markdown",
   "id": "31bbabb1",
   "metadata": {},
   "source": [
    "### Read images from the specified path, rotate each image by the given angle, and augment them by applying random cropping."
   ]
  },
  {
   "cell_type": "code",
   "execution_count": null,
   "id": "5deca49d",
   "metadata": {},
   "outputs": [],
   "source": [
    "\n",
    "DHM_save_path = '/Users/behnaz/NCADD/Unet_Cell_body_a2023_v1/cell_body_data/train_data/test/img_patch'\n",
    "\n",
    "Mask_save_path = '/Users/behnaz/NCADD/Unet_Cell_body_a2023_v1/cell_body_data/train_data/test/lbl_patch'\n",
    "\n",
    "\n",
    "\n",
    "angles = [0, 15, 30, 45, 60, 75, 90]\n",
    "matrix = 128\n",
    "sample = 30\n",
    "\n",
    "\n",
    "for i in range(len(DHM_all_sorted_directories)):\n",
    "    DHM_img = imread(str(DHM_all_sorted_directories[i]))\n",
    "    img = np.array(DHM_img, dtype=np.uint8)\n",
    "    mask = imread(str(M_all_sorted_directories[i])) \n",
    "    mask_img =np.array( mask , dtype=np.uint8)\n",
    "    mask_img = mask_img>0.99\n",
    "    for angle in angles:\n",
    "        DHM_img_rt = rotate(img, angle=angle)\n",
    "        mask_rt = rotate(mask_img,angle = angle)\n",
    "        x, y = np.shape(DHM_img_rt)\n",
    "        for j in range(sample):\n",
    "            x1 = randrange(0, x - matrix)\n",
    "            y1 = randrange(0, y - matrix)\n",
    "            DHM_img_crop = DHM_img_rt[x1:x1 + matrix, y1:y1 + matrix]\n",
    "            #Convert DHM images to 8-bit image 0-255\n",
    "            DHM_img_crop_8bit = (DHM_img_crop * 255.0 / DHM_img_crop.max()).astype(np.uint8) \n",
    "            mask_crop = mask_rt[x1:x1 + matrix, y1:y1 + matrix]\n",
    "\n",
    "            \n",
    "            # Create filenames for the saved images\n",
    "            dhm_filename = os.path.splitext(os.path.basename(DHM_all_sorted_directories[i]))[0] + \"_\" + str(j) + \"_rt_\" + str(angle) + \".tif\"\n",
    "            mask_filename = os.path.splitext(os.path.basename(M_all_sorted_directories[i]))[0] + \"_\" + str(j) + \"_rt_\" + str(angle) + \".tif\"\n",
    "            \n",
    "            # Save images to the specified paths\n",
    "            io.imsave(os.path.join(DHM_save_path, dhm_filename), DHM_img_crop_8bit)\n",
    "            io.imsave(os.path.join(Mask_save_path, mask_filename), mask_crop)\n",
    "\n",
    "   "
   ]
  }
 ],
 "metadata": {
  "kernelspec": {
   "display_name": "Python 3 (ipykernel)",
   "language": "python",
   "name": "python3"
  },
  "language_info": {
   "codemirror_mode": {
    "name": "ipython",
    "version": 3
   },
   "file_extension": ".py",
   "mimetype": "text/x-python",
   "name": "python",
   "nbconvert_exporter": "python",
   "pygments_lexer": "ipython3",
   "version": "3.11.6"
  }
 },
 "nbformat": 4,
 "nbformat_minor": 5
}
